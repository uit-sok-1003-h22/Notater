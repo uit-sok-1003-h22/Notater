{
 "cells": [
  {
   "cell_type": "markdown",
   "id": "c4256632-2366-4b54-8457-0c191da630eb",
   "metadata": {
    "tags": []
   },
   "source": [
    "# Oppsummering fra forelesning 1-4"
   ]
  },
  {
   "cell_type": "markdown",
   "id": "63d264f3-119c-4b76-856c-112acaa974da",
   "metadata": {},
   "source": [
    "# Variabler"
   ]
  },
  {
   "cell_type": "markdown",
   "id": "c0aca2e6-6890-45a7-9993-979f1e284ceb",
   "metadata": {},
   "source": [
    "Variablene i Python kan være ulike objekter som i alle andre programmeringsspråk, og typen objekt defineres av hva du setter variabelen til. Det er vanlig å definere stort sett alle variabler med små bokstaver i Python. Kun unntaksvis brukes store bokstaver.\n",
    "\n",
    "Du kan ikke bruke mellomrom i variabelnavn. Det vil oppfattes som flere ulike navn. For eksempel er `number_of_apples`  tillatt men ikke \"number of apples\". Vi bruker også kun engelske bokstaver, selv om norske fungerer. `aintail_æpla` kan altså brukes, men anbefales ikke."
   ]
  },
  {
   "cell_type": "markdown",
   "id": "4c6e8021-12b0-4cb0-ae22-32d46b2ab8e7",
   "metadata": {},
   "source": [
    "##  `bool` (Sann/Usann)"
   ]
  },
  {
   "cell_type": "markdown",
   "id": "a01f2a14-cf1d-4181-9cb4-500215e7a374",
   "metadata": {},
   "source": [
    "Den enkleste variabelen i Python er den binære typen \"bool\". Den kan ta to verdier, `True` eller `False` (sant eller usant). Denne variabelen brukes mest i sammenhenger der vi skal teste om et vilkår er oppfylt eller ikke. Da bruker vi `if`-setninger, som vi skal komme tilbake til.\n",
    "\n",
    "Vi kan sjekke hvilken type en variabel er med funksjonen type(). Under får vi bekreftet `apple_is_tasty` er en boolsk variabel.\n",
    "\n",
    "#### Eksempel 3:"
   ]
  },
  {
   "cell_type": "code",
   "execution_count": null,
   "id": "b836f456-507e-4d31-b8f0-12e670bc3e28",
   "metadata": {},
   "outputs": [],
   "source": [
    "#bool\n",
    "apple_is_tasty=True\n",
    "type(apple_is_tasty)"
   ]
  },
  {
   "cell_type": "markdown",
   "id": "3a5ea571-d6b9-4e8a-b030-73b24880135d",
   "metadata": {},
   "source": [
    "## `int` (heltall)"
   ]
  },
  {
   "cell_type": "markdown",
   "id": "a853b4ee-ea26-4370-a63d-3510c0e5b2f7",
   "metadata": {},
   "source": [
    "int representerer hele tall i Python. Under ser vi at Python tolker  8 som et heltall:\n",
    "\n",
    "#### Eksempel 4:"
   ]
  },
  {
   "cell_type": "code",
   "execution_count": null,
   "id": "077d2e46-73f1-4d0d-86fe-4a31ccda47b0",
   "metadata": {},
   "outputs": [],
   "source": [
    "# integer:\n",
    "number_of_apples = 8\n",
    "type(number_of_apples)"
   ]
  },
  {
   "cell_type": "markdown",
   "id": "5772ffa5-664e-43ef-8dfa-baf1b2eabbaa",
   "metadata": {},
   "source": [
    "## `float` (desimaltall)"
   ]
  },
  {
   "cell_type": "markdown",
   "id": "5ec16217-c410-4eea-9c56-f6103ba0278b",
   "metadata": {},
   "source": [
    "Regning gjøres vanligvis med desimaltall, eller \"floating point\" som det kalles av på fagspråket.  I python heter derfor denne variabeltypen  `float`.\n",
    "\n",
    "Om for eksempel 11 skal tolkes som et heltall, gir vi beskjed til Python om at det er et desimaltall ved å skrive det med én desimal. Alle programmeringsspråk, inkludert Python, bruker punktum som desimaltegn. \n",
    "\n",
    "#### Eksempel 7:"
   ]
  },
  {
   "cell_type": "code",
   "execution_count": null,
   "id": "b7edec1b-6ec8-454b-9641-c80f25cf95a6",
   "metadata": {},
   "outputs": [],
   "source": [
    "# floating point (float):\n",
    "apple_price = 11.0\n",
    "type(apple_price)"
   ]
  },
  {
   "cell_type": "markdown",
   "id": "69aa58bf-9a26-4f61-b09f-c10df8844827",
   "metadata": {},
   "source": [
    "### `str` (tekst)"
   ]
  },
  {
   "cell_type": "markdown",
   "id": "f4051d8e-c116-4075-aa1a-10d99ae91faa",
   "metadata": {},
   "source": [
    "Tekst kalles \"streng\" på dataspråket, eller \"string\" på engelsk. Typen som representerer tekst heter derfor `str`. Vi forteller Python at dette er en tekst ved å sette anførselstegn rundt. Her er et eksempel på en streng:\n",
    "\n",
    "#### Eksempel 14:"
   ]
  },
  {
   "cell_type": "code",
   "execution_count": null,
   "id": "11e4ed15-3c99-4b54-bc71-090982967c69",
   "metadata": {},
   "outputs": [],
   "source": [
    "# string:\n",
    "x=\"Dette er en streng (dvs tekst)\"\n",
    "type(x)"
   ]
  },
  {
   "cell_type": "markdown",
   "id": "fb38a493-3632-42b8-89a7-5ad88a684009",
   "metadata": {},
   "source": [
    "Det er enkelt å sette sammen `string` og andre variabler i Python. Det er flere måter å gjøre det på, men vi skal bruke en metode som er ganske ny i Python. Fra og med versjon 3.6 kom noe som kalles \"f-strings\" som gir oss en veldig enkel måte å blandet tekst og andre variabler. Her er et eksempel:\n",
    "\n",
    "#### Eksempel 15:"
   ]
  },
  {
   "cell_type": "code",
   "execution_count": null,
   "id": "a704c7b2-55a2-4f4f-a6e1-cb336ba93282",
   "metadata": {},
   "outputs": [],
   "source": [
    "print(f\"Det er {apple_is_tasty} at jeg synes epler smaker godt.\")"
   ]
  },
  {
   "cell_type": "markdown",
   "id": "72555e2a-06f0-453f-a98d-613d4acc6a6e",
   "metadata": {},
   "source": [
    "## Innebygde funksjoner"
   ]
  },
  {
   "cell_type": "markdown",
   "id": "3396d0a9-a474-4979-b8c1-5d5ee9fce6fb",
   "metadata": {},
   "source": [
    "Python kommer med en rekke innebygde funksjoner. I tillegg kan du importere pakker som har en lang rekke funksjoner. Her er noen innebygde funksjoner i Python:\n",
    "\n",
    "#### Eksempel 1:"
   ]
  },
  {
   "cell_type": "code",
   "execution_count": null,
   "id": "d2c26a0c-28c9-41ba-9829-259cfcca5c77",
   "metadata": {},
   "outputs": [],
   "source": [
    "print( max(2.4,2.0)   )\n",
    "print( min(2.4, 2.0)  )\n",
    "print( abs(-2.4)      )\n",
    "print( len(\"abcde\")   )"
   ]
  },
  {
   "cell_type": "markdown",
   "id": "824c1c1f-40c0-4883-98fd-408e49d38264",
   "metadata": {},
   "source": [
    "## Egendefinerte funksjoner "
   ]
  },
  {
   "cell_type": "code",
   "execution_count": null,
   "id": "82d3d712-d0a2-4c1f-af45-bd2be7ff4aa8",
   "metadata": {},
   "outputs": [],
   "source": [
    "def f(x):\n",
    "    return 2*x"
   ]
  },
  {
   "cell_type": "code",
   "execution_count": null,
   "id": "0ee6ce31-32c5-4ec9-946e-05e34e083072",
   "metadata": {
    "tags": []
   },
   "outputs": [],
   "source": [
    "def f2(x):\n",
    "    y = 2*x\n",
    "    return y"
   ]
  },
  {
   "cell_type": "markdown",
   "id": "502ff4fd-d505-49d3-9a6e-b2889e6f6af0",
   "metadata": {},
   "source": [
    "### Renteregning\n",
    "\n",
    "La oss starte med å lage en funksjon for et lån uten avdrag. Om banken legger til renten én gang i året og renten er r, så er lånet på x om T år gitt som $x\\cdot (1+r)^{T}$. Dette kan vi programmere som følgende funksjon:\n",
    "\n"
   ]
  },
  {
   "cell_type": "code",
   "execution_count": null,
   "id": "ca1c223a-9584-4381-8cca-dc370192dbb9",
   "metadata": {},
   "outputs": [],
   "source": [
    "def account_balance(x,r,T):\n",
    "    return x*(1+r)**T"
   ]
  },
  {
   "cell_type": "markdown",
   "id": "96c77e5b-79f6-4b88-a4f8-b40e0b6b1818",
   "metadata": {
    "tags": []
   },
   "source": [
    "Nøkkelordet `return`sørger for at det som står etter `return` returneres av funksjonen. Dersom funksjonen ikke har `return`i seg, returneres `None`, som representerer \"ingenting\" i Python. \n",
    "\n",
    "Om renten på lånet er 20%=0.2 og innskuddet er 100, så er beløpet om to år dermed:\n",
    "\n"
   ]
  },
  {
   "cell_type": "code",
   "execution_count": null,
   "id": "7bd1b8aa-d18b-4e74-be0d-4a732f2f8f95",
   "metadata": {},
   "outputs": [],
   "source": [
    "account_balance(100,0.2,10)"
   ]
  },
  {
   "cell_type": "markdown",
   "id": "7271b61f-6ea7-4c61-91e2-69eac9ddc229",
   "metadata": {},
   "source": [
    "# Enkle grafer"
   ]
  },
  {
   "cell_type": "markdown",
   "id": "53f86e04-d9aa-4c9b-bec0-900dd8ded56a",
   "metadata": {},
   "source": [
    "Det er fint å kunne lage funksjoner i Python, men det er enda bedre å *se* dem. Vi skal nå se på hvordan vi kan tegne resultatet av funksjoner i et diagram ved hjelp av pakken `matplotlib`. \n",
    "\n",
    "Ofte ønsker vil å bruke matplotlib til å vise oss sammenhenger i data vi har hentet inn. Når vi importerer data til Python bruker vi vanligvis pakken `pandas`. Vi kommer sener tilbake til hvordan vi arbeider med data i `pandas`, så foreløpig skal vi ikke gjøre noe mer enn å importere og bruke dataene i `matplotlib`. \n",
    "\n",
    "Vi starter derfor med å *importere* `matplotlib`, `numpy` og `pandas`:\n",
    "\n",
    "#### Eksempel 1:"
   ]
  },
  {
   "cell_type": "code",
   "execution_count": null,
   "id": "b2812bed-4269-4d32-9c67-ea074e7fac02",
   "metadata": {},
   "outputs": [],
   "source": [
    "import numpy as np\n",
    "import matplotlib.pyplot as plt\n",
    "import pandas as pd"
   ]
  },
  {
   "cell_type": "markdown",
   "id": "c986500d-445b-4cc0-a930-d1ee2428e608",
   "metadata": {},
   "source": [
    "### Hvis man trenger hjelp til en pakke kan det være lurt å se på oppslaget for pakken"
   ]
  },
  {
   "attachments": {
    "6f77f787-9454-42a2-bd10-4808c20f4a4e.png": {
     "image/png": "[encoded data removed]"
    }
   },
   "cell_type": "markdown",
   "id": "45df2518-83f3-427e-bcc0-5b5def8c1764",
   "metadata": {},
   "source": [
    "![image.png](attachment:6f77f787-9454-42a2-bd10-4808c20f4a4e.png)"
   ]
  },
  {
   "cell_type": "code",
   "execution_count": null,
   "id": "d7230031-3337-4e40-a430-1f88a8b356f0",
   "metadata": {},
   "outputs": [],
   "source": [
    "x=[4,7,2]\n",
    "y=[8,2,6]\n",
    "plt.plot(y)"
   ]
  },
  {
   "cell_type": "code",
   "execution_count": null,
   "id": "013a057b-b2e4-4e11-aa03-ee6c0e4f5488",
   "metadata": {},
   "outputs": [],
   "source": [
    "plt.plot(x, y)"
   ]
  },
  {
   "cell_type": "markdown",
   "id": "70c7b04c-f0e4-4938-bc9a-a037e4e2de54",
   "metadata": {},
   "source": [
    "Vi kan også ha funksjoner som del av grafene"
   ]
  },
  {
   "cell_type": "code",
   "execution_count": null,
   "id": "6020e8b7-9045-4c79-9ff5-0e40055e354b",
   "metadata": {},
   "outputs": [],
   "source": [
    "x = np.arange(1,10, 1)\n",
    "plt.plot(x, np.log(x))"
   ]
  },
  {
   "cell_type": "markdown",
   "id": "b33678a8-e69d-4dd9-b29d-9c84be13cbb6",
   "metadata": {},
   "source": [
    "### Vi kan enkelt vise de samme dataene ved hjelp av andre figurtyper"
   ]
  },
  {
   "cell_type": "code",
   "execution_count": null,
   "id": "2950ad71-4ccc-4251-aafc-f71dc23ff874",
   "metadata": {},
   "outputs": [],
   "source": [
    "plt.pie(x, autopct='%.1f%%') "
   ]
  },
  {
   "cell_type": "code",
   "execution_count": null,
   "id": "92f998e4-fc83-4a65-8231-b05e5e92ab6d",
   "metadata": {},
   "outputs": [],
   "source": [
    "x=[4,7,2]\n",
    "y=[8,2,6]\n",
    "plt.bar(y, x)"
   ]
  },
  {
   "cell_type": "code",
   "execution_count": null,
   "id": "17329734-151d-44ce-adfe-f6afdbc20b0a",
   "metadata": {},
   "outputs": [],
   "source": [
    "def account_balance(x,r,T,n):\n",
    "    return x*(1+r/n)**(T*n)"
   ]
  },
  {
   "cell_type": "code",
   "execution_count": null,
   "id": "a749a60d-3abc-4776-88c3-c2b600b17827",
   "metadata": {},
   "outputs": [],
   "source": [
    "#1. Checking developement over 10 years, with 100 data points\n",
    "T = np.linspace(0,10,100)\n",
    "\n",
    "#2. initiating the plot:\n",
    "fig,ax=plt.subplots()\n",
    "\n",
    "#3. adding axis lables:\n",
    "ax.set_ylabel('Verdi bankinnskudd')\n",
    "ax.set_xlabel('Tid T')\n",
    "\n",
    "#4. plotting the function:\n",
    "ax.plot(T, account_balance(100,0.2,T,1),          label='Bankinnskudd, årlig forrentning',    color='lightblue')\n",
    "\n",
    "#5. adding legend in the upper left corner:\n",
    "ax.legend(loc='upper left',frameon=False)"
   ]
  },
  {
   "cell_type": "code",
   "execution_count": null,
   "id": "c746a82b-c130-4792-aa0d-7d0da8651ef3",
   "metadata": {},
   "outputs": [],
   "source": [
    "import pandas as pd\n",
    "df = pd.read_csv(\"./annual-working-hours-vs-gdp-per-capita-pwt.csv\")"
   ]
  },
  {
   "cell_type": "code",
   "execution_count": null,
   "id": "e266aaea-9ab1-4d26-9682-992b0dba9155",
   "metadata": {},
   "outputs": [],
   "source": [
    "df\n"
   ]
  },
  {
   "cell_type": "code",
   "execution_count": null,
   "id": "e2b2116a-fa2e-42a6-86a3-49a690bc5417",
   "metadata": {},
   "outputs": [],
   "source": [
    "df.columns \n"
   ]
  },
  {
   "cell_type": "code",
   "execution_count": null,
   "id": "0e64b05d-1029-49ed-9ef7-fb43ebb10c9b",
   "metadata": {},
   "outputs": [],
   "source": [
    "df.columns = [\"country\", \"code\", \"year\", \"working_hours\", \"gdp\", \"population\", \"continent\"]"
   ]
  },
  {
   "cell_type": "code",
   "execution_count": null,
   "id": "4dbabc62-42d3-40e1-adfd-9ae317b79f9c",
   "metadata": {
    "tags": []
   },
   "outputs": [],
   "source": [
    "df\n"
   ]
  },
  {
   "cell_type": "code",
   "execution_count": null,
   "id": "f3846c36-6b0e-49de-bb99-972c6cb0cfc8",
   "metadata": {},
   "outputs": [],
   "source": [
    "df = df[df[\"year\"]==2019]"
   ]
  },
  {
   "cell_type": "code",
   "execution_count": null,
   "id": "51cbdfe4-cd86-4560-94a9-479d6b8cc68e",
   "metadata": {
    "tags": []
   },
   "outputs": [],
   "source": [
    "\n",
    "plt.scatter(df[\"working_hours\"], df[\"gdp\"])"
   ]
  },
  {
   "cell_type": "code",
   "execution_count": null,
   "id": "b02c19a9-5728-4f3b-8a85-d3de472f47d7",
   "metadata": {},
   "outputs": [],
   "source": [
    "import seaborn as sns\n",
    "df1 = df.dropna(subset = [\"working_hours\"]).head(10)\n",
    "\n",
    "sns.scatterplot(data=df1, x=\"working_hours\", y=\"gdp\", hue=\"country\")"
   ]
  },
  {
   "cell_type": "code",
   "execution_count": null,
   "id": "e88d550a-e1ef-4b8c-99ec-136e6dbd1b1f",
   "metadata": {
    "tags": []
   },
   "outputs": [],
   "source": [
    "plt.bar(df1[\"country\"], df1[\"population\"])\n",
    "plt.xticks(rotation=45)"
   ]
  },
  {
   "cell_type": "markdown",
   "id": "55e160fc-94a3-4da8-86e4-46a9e554f9db",
   "metadata": {},
   "source": [
    "# Datastrukturer"
   ]
  },
  {
   "cell_type": "markdown",
   "id": "800746ee-42ab-492d-939b-7ac9a0cfdb87",
   "metadata": {},
   "source": [
    "# Lister\n",
    "\n",
    "Lister lages med klammeparenteser. Her er noen lister med navn, forkortelse (Ticker), aksjekurs, markedsverdi, PE og gjeldsgrad for noen aksjer på Oslo Børs. Tallene er fra 27. november 2020 (kilde https://tilon.uit.no). \n",
    "\n",
    "PE er \"Price/Earnings\", som er forholdet mellom selskapenes inntjening og prisen. Gjeldsgrad er hvor stor andel av total kapital som er gjeld. Det som ikke er gjeld er egenkapital. \n",
    "\n",
    "#### Eksempel 1:"
   ]
  },
  {
   "cell_type": "code",
   "execution_count": null,
   "id": "bee3f0b3-581e-495f-8d97-4f3df55270fe",
   "metadata": {},
   "outputs": [],
   "source": [
    "equinor=['Statoil', 'EQNR', 167.554919090282, 376883380048.5, 6.14609823076753, 0.617893838660362]\n",
    "dnb=['DNB', 'DNB', 164, 259169427140, 11.1121822724349, 0.914999939276725]\n",
    "telenor=['Telenor', 'TEL', 148.737572948101, 227115017138.4, 13.0211568133471, 0.715300723576896]\n",
    "marine_harvest=['Marine Harvest', 'MHG', 225.589705235372, 118004750966.2, 21.6878893009616, 0.440427599611273]\n",
    "aker_bp=['Aker BP', 'AKERBP', 272.499264741749, 103712690592, 26.7636558040214, 0.722568840028356]\n",
    "yara_international=['Yara International', 'YAR', 333.328922090651, 99481443032.4, 86.741957363663, 0.465057636887608]\n",
    "gjensidige_forsikring=['Gjensidige Forsikring', 'GJF', 172.830508474576, 92125000000, 24.9404407385348, 0.847890127134592]"
   ]
  },
  {
   "cell_type": "markdown",
   "id": "5af5f480-d9bc-4dc3-9e0f-e4df27e7eb7e",
   "metadata": {},
   "source": [
    "Aker BP-askjen er element nummer fem i denne listen. Om vi nå skal referere til den, så bruker vi indeks 4, siden vi starter på null. \n",
    "\n",
    "#### Eksempel 4:"
   ]
  },
  {
   "cell_type": "code",
   "execution_count": null,
   "id": "ae33d31f-7651-4a13-9d28-eb7197a79d8f",
   "metadata": {},
   "outputs": [],
   "source": [
    "stocks[:4]"
   ]
  },
  {
   "cell_type": "markdown",
   "id": "7c982d73-e9e3-48a8-8245-0eb8e7ede43f",
   "metadata": {},
   "source": [
    "Om du vil referere til siste element, bruker du indeks -1. Vil du referere til nest siste, bruker du indeks -2, og så videre:\n",
    "\n",
    "#### Eksempel 5:"
   ]
  },
  {
   "cell_type": "code",
   "execution_count": null,
   "id": "445d23c2-b4a3-4127-bc8d-61dc1061f2df",
   "metadata": {
    "scrolled": true
   },
   "outputs": [],
   "source": [
    "print(stocks[-1])\n",
    "print(stocks[-2])"
   ]
  },
  {
   "cell_type": "markdown",
   "id": "89c8fb5a-eb4f-4ba9-a602-49b66d5b6141",
   "metadata": {},
   "source": [
    "Du kan også referere til flere elementer som står ved siden av hverandre med en såkalt `slice`, eller skjære som vi kan kalle det på norsk:\n",
    "\n",
    "#### Eksempel 6:"
   ]
  },
  {
   "cell_type": "code",
   "execution_count": null,
   "id": "365be011-0738-4f61-b618-49aa80a09009",
   "metadata": {},
   "outputs": [],
   "source": [
    "#Fra element to til og med tre:\n",
    "stocks[2:4]"
   ]
  },
  {
   "cell_type": "code",
   "execution_count": null,
   "id": "17ad7d0e-4a27-4bc3-92a6-38246bfeb299",
   "metadata": {},
   "outputs": [],
   "source": [
    "#Fra og med nest siste element:\n",
    "stocks[-2:]"
   ]
  },
  {
   "cell_type": "code",
   "execution_count": null,
   "id": "66260da2-55d4-41ec-9430-142e9a2006a0",
   "metadata": {},
   "outputs": [],
   "source": [
    "#Til og med nest siste element:\n",
    "stocks[:-1]"
   ]
  },
  {
   "cell_type": "code",
   "execution_count": null,
   "id": "89ba0bb9-03f0-4c5a-9631-fe1fceb0cd19",
   "metadata": {},
   "outputs": [],
   "source": []
  },
  {
   "cell_type": "markdown",
   "id": "6eea523b-7824-434a-b08c-2bc8b06da9a1",
   "metadata": {},
   "source": [
    "Og vi kan referere til en liste inne i en liste:\n",
    "\n",
    "#### Eksempel 7:"
   ]
  },
  {
   "cell_type": "code",
   "execution_count": null,
   "id": "bc133127-90cc-40cc-b0f0-74bf61231beb",
   "metadata": {},
   "outputs": [],
   "source": [
    "print(f\"Det tredje selskapet er {stocks[2][0]}\")"
   ]
  },
  {
   "cell_type": "markdown",
   "id": "3f65c3dc-0315-44b6-9648-3a19156f5fc6",
   "metadata": {},
   "source": [
    "Det tredje selskapet, altså Equinor, har indeks to, siden Python starter indekseringen på 0. \n",
    "\n",
    "Det er enkelt å utvide lister, vi bruker bare `+`. Om vi for eksempel vil legge til selskapet `['Tomra Systems', 'TOM', 276.409619134278, 41208789715.2, 52.8996016883184, 0.454299114121939] `, kan vi gjøre det slik:\n",
    "\n",
    "#### Eksempel 8:"
   ]
  },
  {
   "cell_type": "code",
   "execution_count": null,
   "id": "af72ceb2-2bf2-4841-a4f2-29af552ca80c",
   "metadata": {},
   "outputs": [],
   "source": [
    "tomra_systems=['Tomra Systems', 'TOM', 276.409619134278, 41208789715.2, 52.8996016883184, 0.454299114121939]\n",
    "stocks=stocks+[tomra_systems]\n",
    "\n",
    "len(stocks)"
   ]
  },
  {
   "cell_type": "markdown",
   "id": "0505892f-af1f-401c-891b-f22e3d7cd8d3",
   "metadata": {},
   "source": [
    "# Unngå uønsket endring av objekter\n",
    "\n",
    "En veldig vanlig nybegynnerfeil i Python er å glemme at selv om et objekt, slik som en liste, har fått nytt navn, så er det fortsatt det samme objektet. Dette er spesielt lett å glemme når du objektet er et argument i en funksjon. Her er for eksempel en funksjon som opererer på argumentet:\n",
    "\n",
    "#### Eksempel 9:"
   ]
  },
  {
   "cell_type": "code",
   "execution_count": null,
   "id": "b80c3648-3000-4003-85d8-9b6aea38840d",
   "metadata": {},
   "outputs": [],
   "source": [
    "a = [1, 2, 3, 4]\n"
   ]
  },
  {
   "cell_type": "code",
   "execution_count": null,
   "id": "085b8a68-f06c-48f2-800f-018aa4417eb2",
   "metadata": {},
   "outputs": [],
   "source": [
    "print(a.pop(-1))\n",
    "print(a)"
   ]
  },
  {
   "cell_type": "code",
   "execution_count": null,
   "id": "3208dd81-3ed7-4558-b9d3-65a9e347efff",
   "metadata": {},
   "outputs": [],
   "source": [
    "a = [1, 2, 3, 4]"
   ]
  },
  {
   "cell_type": "code",
   "execution_count": null,
   "id": "20a695f4-218d-45fb-bffd-94d5bafeac72",
   "metadata": {},
   "outputs": [],
   "source": [
    "b = a\n",
    "b[0] = \"endring\"\n",
    "print(a)\n",
    "print(b)"
   ]
  },
  {
   "cell_type": "code",
   "execution_count": null,
   "id": "d39a62a6-0b32-4465-a63b-fde63bba1d16",
   "metadata": {},
   "outputs": [],
   "source": [
    "b = a.pop(-1)\n",
    "print(b)\n",
    "print(a)"
   ]
  },
  {
   "cell_type": "markdown",
   "id": "edeefcc5-bbf7-462d-891d-5f14f00255e6",
   "metadata": {},
   "source": [
    "# Numpy"
   ]
  },
  {
   "cell_type": "markdown",
   "id": "b7cb9eb7-2cbd-4aaa-848c-74cbe42beeb4",
   "metadata": {},
   "source": [
    "Numpy er en pakke som kan gjøre matematiske beregninger på store datasett svært effektivt. Vi starter med å importere pakken, og konvertere listen vi har brukt til en numpy-matrise kalt `ndarray`. En *matrise* er en liste der alle rader har like mangee elementer, og det er jo tilfelle med vår `stocks`-liste.\n",
    "\n",
    "Vi starter med å definere en liste av liste med informasjon om aksjene:\n",
    "\n",
    "#### Eksempel 13:"
   ]
  },
  {
   "cell_type": "code",
   "execution_count": null,
   "id": "e84e35c4-739b-4e8b-8956-a0c04600fbb8",
   "metadata": {},
   "outputs": [],
   "source": [
    "stocks=[\n",
    "['Equinor', 'EQNR', 167.554919090282, 376883380048.5, 6.14609823076753, 0.617893838660362] , \n",
    "['DNB', 'DNB', 164, 259169427140, 11.1121822724349, 0.914999939276725] , \n",
    "['Telenor', 'TEL', 148.737572948101, 227115017138.4, 13.0211568133471, 0.715300723576896] , \n",
    "['Marine Harvest', 'MHG', 225.589705235372, 118004750966.2, 21.6878893009616, 0.440427599611273] , \n",
    "['Aker BP', 'AKERBP', 272.499264741749, 103712690592, 26.7636558040214, 0.722568840028356] , \n",
    "['Yara International', 'YAR', 333.328922090651, 99481443032.4, 86.741957363663, 0.465057636887608] , \n",
    "['Gjensidige Forsikring', 'GJF', 172.830508474576, 92125000000, 24.9404407385348, 0.847890127134592] , \n",
    "['Orkla', 'ORK', 86.5857852597003, 89087299091.2, 26.5615083754323, 0.350968405416214] , \n",
    "['Norsk Hydro', 'NHY', 31.4389402413895, 67532103728.64, 15.6215830970715, 0.439195576287418] , \n",
    "['SalMar', 'SALM', 449.3, 50905689550.7, 14.222545257898, 0.396134627028104] , \n",
    "['Tomra Systems', 'TOM', 276.409619134278, 41208789715.2, 52.8996016883184, 0.454299114121939] , \n",
    "['Aker', 'AKER', 514.200494811093, 40393931997, 43.4343354806452, 0.548092886866901],  \n",
    "]\n",
    "stocks"
   ]
  },
  {
   "cell_type": "markdown",
   "id": "358a5240-b9db-41e8-bcdb-92c675d4a77f",
   "metadata": {},
   "source": [
    "Som du ser, så består listen av tolv rader og fire kolonner. Dette er altså en 12x6-matrise. Den kan enkelt konverteres til en numpy-matrise med funksjonen `np.array()` slik som her:\n",
    "\n",
    "#### Eksempel 14:"
   ]
  },
  {
   "cell_type": "code",
   "execution_count": null,
   "id": "74275679-979c-4d8c-bdcb-d793fb288215",
   "metadata": {
    "scrolled": true
   },
   "outputs": [],
   "source": [
    "import numpy as np\n",
    "stocks_np=np.array(stocks)\n",
    "stocks_np"
   ]
  },
  {
   "cell_type": "markdown",
   "id": "595eb09f-587f-4218-bcfb-450ff07f9c9b",
   "metadata": {},
   "source": [
    "Listen er nå lagret som en numpy 12x6-matrise i objektet `stocks_np`. Vi kan imidlertid ikke utføre noen matematiske beregninger slik denne matrisen står, fordi alle tall er i tekstformat. Som vi har sett tidligere går det bare an å regne med `float`, `int` og `bool`. At det er tekst ser vi ved at det er enkle anførselstegn `'` rundt alle elementene. \n",
    "\n",
    "Heldigvis er det veldig enkelt å hente ut informasjon fra numpy-matriser, fordi mulighetene til å skjære utsnitt er langt større enn for vanlige lister. Numpy-lister kan nemlig skjæres i flere dimensjoner. \n",
    "\n",
    "I motsetning til vanlige lister, kan vi for eksempel velge ut kolonner. I en liste av lister velger du, som vi har sett, rad 2 og kolonne 0 med `stocks[2][0]`. Med numpy-matriser separerer du de to indeksene med et komma, `stocks[2,0]`.\n",
    "\n",
    "Men enda viktigere, du kan velge alle elementer ved å sette inn kolon `:` i stedet for tall. Dermed kan du velge hele kolonne 0 med `stocks_np[:,0]`.\n",
    "\n",
    "Her er vi mest interessert i de to siste kolonnene. Det er disse som inneholder tall. For å plukke ut disse velger vi alle radene (`:`) og alle kolonnene fra og med kolonne 2 (`2:`). Da får vi\n",
    "\n",
    "#### Eksempel 15:"
   ]
  },
  {
   "cell_type": "code",
   "execution_count": null,
   "id": "f6f5eea0-382f-4890-beeb-66b36aed5f9c",
   "metadata": {},
   "outputs": [],
   "source": [
    "stocks_np[:,2:]"
   ]
  },
  {
   "cell_type": "markdown",
   "id": "1af363cf-f0c1-4206-9b55-32f5279a478c",
   "metadata": {},
   "source": [
    "Sist i matrisen over, står det `dtype='<U21'`. Det betyr at dette er tekstrenger på 21 eller færre tegn. Vi må imidlertid ha dette over i tallformat for å kunne jobbe med det. Det gjør vi slik:\n",
    "\n",
    "#### Eksempel 16:"
   ]
  },
  {
   "cell_type": "code",
   "execution_count": null,
   "id": "63ce3bac-72eb-41b4-bc8f-3a3f6ba59ccc",
   "metadata": {},
   "outputs": [],
   "source": [
    "stocks_numbers=np.array(stocks_np[:,2:],dtype=float)\n",
    "stocks_numbers"
   ]
  },
  {
   "cell_type": "markdown",
   "id": "916652c2-3f30-4c34-a701-8bcc84a89fe7",
   "metadata": {},
   "source": [
    "Ser du en sammenheng?\n",
    "\n",
    "Det er også enkelt å regne med Numpy. Vi kan bruke alle de vanlige regneartene med numpy-matriser:"
   ]
  },
  {
   "cell_type": "code",
   "execution_count": null,
   "id": "7fbbd7eb-8ea9-47d7-a3b8-35b12c872bb0",
   "metadata": {
    "tags": []
   },
   "outputs": [],
   "source": [
    "a=np.array([1,5,6,3])\n",
    "b=np.array([23,15,2,10])\n",
    "\n",
    "print(a+b)\n",
    "print(a-b)\n",
    "print(a*b)\n",
    "print(a/b)\n",
    "print(a**3)\n",
    "print(a**0.5)#Kvadratroten"
   ]
  },
  {
   "cell_type": "markdown",
   "id": "f249c829-fa3e-4374-bca7-528a3bf8be3d",
   "metadata": {
    "tags": []
   },
   "source": [
    "# Oppslag\n",
    "\n",
    "Et oppslag, eller *dictionary* har symbol `dict` i Python. Dette er en datastruktur der hvert element ikke identifiseres med hvor det er plassert, men med et nøkkelord (`key`). Å bruke oppslag i stedet for lister gjør ofte koden mer lesbar. Det finnes to måter å lage oppslag på; enten ved å bruke funksjonen `dict()`:\n",
    "\n",
    "#### Eksempel 18:"
   ]
  },
  {
   "cell_type": "code",
   "execution_count": null,
   "id": "52ed0d4a-ada9-4bd8-b9b4-a0c02b0d7763",
   "metadata": {},
   "outputs": [],
   "source": []
  },
  {
   "cell_type": "code",
   "execution_count": null,
   "id": "f7aa5a2b-46d9-4dac-b321-1deee5d9e2ba",
   "metadata": {},
   "outputs": [],
   "source": [
    "a=dict()\n",
    "a['gjeldsrate']=stocks_numbers[:,-1]\n",
    "a['PE']=stocks_numbers[:,-2]\n",
    "print(type(a))"
   ]
  },
  {
   "cell_type": "markdown",
   "id": "168c0820-5563-4df3-8b79-19c678db9d26",
   "metadata": {},
   "source": [
    "Som vi ser, blir dette et objekt av type `dict`. Alternativt kan vi definere elementer inne i en krølleparentes på formen `{nøkkel: objekt}`, slik som dette:"
   ]
  },
  {
   "cell_type": "code",
   "execution_count": null,
   "id": "dd895947-79d6-4849-9983-d9840eb937a4",
   "metadata": {},
   "outputs": [],
   "source": [
    "b={\n",
    "    'gjeldsrate':stocks_numbers[:,-1],\n",
    "    'PE':stocks_numbers[:,-2], \n",
    "  }\n",
    "\n",
    "print(type(b))"
   ]
  },
  {
   "cell_type": "markdown",
   "id": "7bfbc97f-a575-4cc0-99fd-7e78e997b662",
   "metadata": {},
   "source": [
    "Her er det altså to elementer med nøkler `'gjeldsrate'` og `'PE'`, og tilhørende objekter fra `stocks_numbers`. \n",
    "\n",
    "Vi legger merke til at dette også er en objekt av type `dict`. Med oppslag blir det enklere å bruke variablene, siden vi kan referere til dem med navn i stedet for indeks. Her er plottet i Eksempel 17 gjort med oppslag:\n",
    "\n",
    "#### Eksempel 19:"
   ]
  },
  {
   "cell_type": "code",
   "execution_count": null,
   "id": "28712a8d-8d31-4c7d-b5c3-943cadcf5c08",
   "metadata": {
    "scrolled": true
   },
   "outputs": [],
   "source": [
    "plt.ylabel('PE')\n",
    "plt.xlabel('gjeldsrate')\n",
    "plt.scatter(a['gjeldsrate'], a['PE'])"
   ]
  },
  {
   "cell_type": "code",
   "execution_count": null,
   "id": "d6b89ee5-2a38-4cc3-8316-f0ba4233f487",
   "metadata": {},
   "outputs": [],
   "source": []
  }
 ],
 "metadata": {
  "kernelspec": {
   "display_name": "Python 3 (ipykernel)",
   "language": "python",
   "name": "python3"
  },
  "language_info": {
   "codemirror_mode": {
    "name": "ipython",
    "version": 3
   },
   "file_extension": ".py",
   "mimetype": "text/x-python",
   "name": "python",
   "nbconvert_exporter": "python",
   "pygments_lexer": "ipython3",
   "version": "3.9.13"
  }
 },
 "nbformat": 4,
 "nbformat_minor": 5
}

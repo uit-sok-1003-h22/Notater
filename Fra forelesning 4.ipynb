{
 "cells": [
  {
   "cell_type": "markdown",
   "id": "d492cd7b-5cb5-4b13-ba22-14eac07cd0c3",
   "metadata": {},
   "source": [
    "# Kommentar\n",
    "Dette løsningsforslaget er bare en av mange måter å gjøre det på. Som en god vane, husk å kommentere kodene dine og merk aksene på grafene dere lager.\n",
    "\n",
    "<b> NB: </b> kodene må kjøres i forelesningsnotatet da schooling-dataene ikke er lagret i denne mappen"
   ]
  },
  {
   "cell_type": "markdown",
   "id": "2aca337e-3bc9-4740-8569-e1711a755b7a",
   "metadata": {
    "tags": []
   },
   "source": [
    "# Oppgaver"
   ]
  },
  {
   "cell_type": "markdown",
   "id": "241af4d6-46e3-4e22-adf4-e0d328bf225e",
   "metadata": {},
   "source": [
    "Det er enkelt å konvertere en pandas dataramme til numpy. Vi skal bruke skolegangeksemplet fra forelesning \"3 - matplotlib\".  Vi henter inn dataene og konverterer dem til numpy slik."
   ]
  },
  {
   "cell_type": "code",
   "execution_count": null,
   "id": "83a6148b-fd1b-4371-bbb6-95ccdc8bc3f9",
   "metadata": {},
   "outputs": [],
   "source": [
    "import numpy as np\n",
    "import pandas as pd\n",
    "df=pd.read_csv('./data/schooling-gdp.csv')\n",
    "schooling=np.array(df)\n",
    "schooling"
   ]
  },
  {
   "cell_type": "markdown",
   "id": "87e66eec-e0d6-461f-b61b-451a5a4ae58c",
   "metadata": {},
   "source": [
    "\n",
    "1. Bytt ut navnet til \"Ireland\" med \"Republic of Ireland\" og \"United States\" med \"United States of America\"\n",
    "2. Print data for \"Luxembourg\"\n",
    "3. Print data for \"Liberia\" ved å referere til nest siste element. \n",
    "4. Print BNP per capita for de tre siste elementene i `schooling` (ligger i kolonne med indeks 2)\n",
    "5. Print BNP per capita for de tre siste elementene i `schooling` men hent kolonnen ved å refere til tredje siste kolonne. \n",
    "6. Plukk ut de tre siste kolonnene i `schooling`, som representerer BNP per capita, skolegang og befolkning, og konverter dem til datatype `float`. \n",
    "7. Lag et oppslag (dictionary) med de tre siste kolonnene og passende navn som nøkler. Kall det `schooling_dict`. \n",
    "8. Lag en ny variabel i oppslaget med navn \"Total schooling\" som er produktet av skolegang og befolkning.\n",
    "9. Lag en ny variabel \"Total GDP\" som er produktet av BNP per capita og befolkning. \n",
    "10. Lag et scatterplot med de to variablene du nettopp lagde. \n",
    "11. Lag en ny variabel \"GDP per schooling\" som er BNP per capita delt på skolegang.\n",
    "12. Lag et liggende stolpediagram med navn på land og \"GDP per schooling\". Du bruker da funksjonen `plt.barh` på denne måten:\n",
    "```\n",
    "plt.barh(names,values)\n",
    "```\n",
    "Hvor `names` er en liste med navnene og `values` er de tilhørende verdiene. \n",
    "\n",
    "13. Dette blir ikke pent. Velg kun de 20 første landene, og forsøk på nytt. "
   ]
  },
  {
   "cell_type": "code",
   "execution_count": 2,
   "id": "edf14595-385a-4da7-9054-f8414f7180de",
   "metadata": {},
   "outputs": [
    {
     "data": {
      "text/plain": [
       "array([['United States of America', ' USA', 49500.629, 13.24, 309011008],\n",
       "       ['Republic of Ireland', ' IRL', 47823.504, 12.45, 4554000]],\n",
       "      dtype=object)"
      ]
     },
     "execution_count": 2,
     "metadata": {},
     "output_type": "execute_result"
    }
   ],
   "source": [
    "#1. Bytt ut navnet til \"Ireland\" med \"Republic of Ireland\" og \"United States\" med \"United States of America\"\n",
    "\n",
    "schooling[5, 0] = \"Republic of Ireland\"\n",
    "\n",
    "\n",
    "schooling[4,0] = \"United States of America\"\n",
    "schooling[4:6]\n",
    "\n"
   ]
  },
  {
   "cell_type": "code",
   "execution_count": null,
   "id": "2ed7e0f0-e165-4d6f-9e7e-60ed95fcd995",
   "metadata": {},
   "outputs": [],
   "source": [
    "schooling[5, 0]"
   ]
  },
  {
   "cell_type": "code",
   "execution_count": 3,
   "id": "f21eea0b-0c47-41e2-9cc0-d4aecd91bd9a",
   "metadata": {},
   "outputs": [
    {
     "name": "stdout",
     "output_type": "stream",
     "text": [
      "['Luxembourg' ' LUX' 57882.809 11.33 508000]\n"
     ]
    }
   ],
   "source": [
    "#2. Print data for \"Luxembourg\"\n",
    "\n",
    "print(schooling[2])\n"
   ]
  },
  {
   "cell_type": "code",
   "execution_count": 4,
   "id": "b7d6d509-0a36-438c-bda7-94cfc855ff24",
   "metadata": {},
   "outputs": [
    {
     "name": "stdout",
     "output_type": "stream",
     "text": [
      "['Liberia' ' LBR' 786.67023 4.35 3891000]\n"
     ]
    }
   ],
   "source": [
    "#3. Print data for \"Liberia\" ved å referere til nest siste element. \n",
    "\n",
    "print(schooling[-2])\n"
   ]
  },
  {
   "cell_type": "code",
   "execution_count": 12,
   "id": "1ef89322-c4a7-4325-a3d4-ca459fc549e4",
   "metadata": {},
   "outputs": [
    {
     "name": "stdout",
     "output_type": "stream",
     "text": [
      "[845.86932 786.67023 634.97137]\n"
     ]
    }
   ],
   "source": [
    "#4. Print BNP per capita for de tre siste elementene i `schooling` (ligger i kolonne med indeks 2)\n",
    "\n",
    "print(schooling[-3:, 2])\n"
   ]
  },
  {
   "cell_type": "code",
   "execution_count": 13,
   "id": "15cc0241-8b89-451e-9caf-e7b417b852a6",
   "metadata": {},
   "outputs": [
    {
     "name": "stdout",
     "output_type": "stream",
     "text": [
      "[845.86932 786.67023 634.97137]\n"
     ]
    }
   ],
   "source": [
    "#5. Print BNP per capita for de tre siste elementene i `schooling` \n",
    "#men hent kolonnen ved å refere til tredje siste kolonne.\n",
    "\n",
    "print(schooling[-3:, -3])"
   ]
  },
  {
   "cell_type": "code",
   "execution_count": 14,
   "id": "33ba1f57-f92f-4d8a-8cba-72e30f1e2a23",
   "metadata": {},
   "outputs": [
    {
     "name": "stdout",
     "output_type": "stream",
     "text": [
      "[[7.32626800e+04 1.16500000e+01 4.88600000e+06]\n",
      " [6.70295230e+04 6.39000000e+00 2.99200000e+06]\n",
      " [5.78828090e+04 1.13300000e+01 5.08000000e+05]\n",
      " [5.56880200e+04 1.29200000e+01 7.80900000e+06]\n",
      " [4.95006290e+04 1.32400000e+01 3.09011008e+08]\n",
      " [4.78235040e+04 1.24500000e+01 4.55400000e+06]\n",
      " [4.48549020e+04 1.16900000e+01 2.21550000e+07]\n",
      " [4.40041450e+04 1.17100000e+01 1.66830000e+07]\n",
      " [4.34162230e+04 1.19700000e+01 5.55500000e+06]\n",
      " [4.16879490e+04 1.22000000e+01 6.96600000e+06]\n",
      " [4.06272300e+04 1.25800000e+01 8.08270000e+07]\n",
      " [4.04898090e+04 1.01300000e+01 8.41000000e+06]\n",
      " [4.04219060e+04 1.19500000e+01 9.39000000e+06]\n",
      " [4.02690310e+04 1.27400000e+01 3.41480000e+07]\n",
      " [3.83940590e+04 1.07100000e+01 5.36600000e+06]\n",
      " [3.81779450e+04 1.12900000e+01 1.09390000e+07]\n",
      " [3.77290160e+04 1.14800000e+01 3.20000000e+05]\n",
      " [3.71888950e+04 1.19600000e+01 2.31880000e+07]\n",
      " [3.65956330e+04 1.24400000e+01 1.28542000e+08]\n",
      " [3.57861600e+04 1.13400000e+01 6.28800000e+07]\n",
      " [3.48102810e+04 1.24600000e+01 6.34600000e+07]\n",
      " [3.47276760e+04 1.07100000e+01 5.93250000e+07]\n",
      " [3.16109800e+04 1.07500000e+01 4.69310000e+07]\n",
      " [3.15897050e+04 1.29600000e+01 4.95460000e+07]\n",
      " [3.08670530e+04 1.11200000e+01 4.37000000e+06]\n",
      " [2.80463750e+04 1.17600000e+01 1.11300000e+06]\n",
      " [2.75102360e+04 1.09600000e+01 1.32800000e+06]\n",
      " [2.61295680e+04 1.28000000e+01 1.05370000e+07]\n",
      " [2.58157990e+04 1.13600000e+01 1.08880000e+07]\n",
      " [2.57882730e+04 8.71000000e+00 1.05960000e+07]\n",
      " [2.29834510e+04 1.10600000e+01 4.14000000e+05]\n",
      " [2.17540660e+04 1.20200000e+01 1.43479008e+08]\n",
      " [2.10060270e+04 1.16200000e+01 3.83300000e+07]\n",
      " [2.04777990e+04 1.19800000e+01 9.92700000e+06]\n",
      " [1.80929410e+04 1.03500000e+01 1.70630000e+07]\n",
      " [1.79306800e+04 7.44000000e+00 7.23270000e+07]\n",
      " [1.79131640e+04 1.08900000e+01 2.82080000e+07]\n",
      " [1.73284590e+04 9.15000000e+00 7.37630000e+07]\n",
      " [1.67756090e+04 1.10800000e+01 2.04720000e+07]\n",
      " [1.63577370e+04 8.78000000e+00 2.84400000e+07]\n",
      " [1.58416590e+04 9.71000000e+00 4.08960000e+07]\n",
      " [1.57834050e+04 8.61000000e+00 3.35900000e+06]\n",
      " [1.51783260e+04 9.44000000e+00 1.24800000e+06]\n",
      " [1.50552370e+04 9.72000000e+00 3.64300000e+06]\n",
      " [1.49067850e+04 1.10700000e+01 7.42500000e+06]\n",
      " [1.45070130e+04 9.18000000e+00 1.14093000e+08]\n",
      " [1.39956130e+04 9.57000000e+00 2.82000000e+05]\n",
      " [1.35414620e+04 8.17000000e+00 1.95714000e+08]\n",
      " [1.25902260e+04 7.00000000e+00 3.59770000e+07]\n",
      " [1.24962440e+04 8.47000000e+00 6.71950000e+07]\n",
      " [1.24534820e+04 1.15200000e+01 8.99100000e+06]\n",
      " [1.21069920e+04 8.43000000e+00 4.57700000e+06]\n",
      " [1.15001320e+04 8.12000000e+00 9.69500000e+06]\n",
      " [1.13886410e+04 9.89000000e+00 5.12170000e+07]\n",
      " [1.06478350e+04 8.00000000e+00 1.06350000e+07]\n",
      " [1.06365000e+04 9.35000000e+00 4.52230000e+07]\n",
      " [9.54474020e+03 1.04400000e+01 2.94800000e+06]\n",
      " [9.35138770e+03 1.00000000e+01 7.26200000e+06]\n",
      " [9.34454390e+03 7.43000000e+00 2.97420000e+07]\n",
      " [9.33729000e+03 8.25000000e+00 1.36881101e+09]\n",
      " [9.26216410e+03 9.28000000e+00 2.90280000e+07]\n",
      " [9.14883980e+03 7.44000000e+00 8.27610000e+07]\n",
      " [9.12913670e+03 8.02000000e+00 1.50110000e+07]\n",
      " [8.39042970e+03 1.06700000e+01 2.02620000e+07]\n",
      " [7.36543850e+03 8.02000000e+00 2.41834000e+08]\n",
      " [7.14595210e+03 9.63000000e+00 3.22000000e+05]\n",
      " [7.04252390e+03 5.33000000e+00 1.06500000e+06]\n",
      " [6.90206880e+03 1.03500000e+01 8.60000000e+05]\n",
      " [6.82520510e+03 7.99000000e+00 6.24800000e+06]\n",
      " [6.67517680e+03 1.03300000e+01 2.81000000e+06]\n",
      " [6.42193750e+03 5.27000000e+00 3.23430000e+07]\n",
      " [6.35926270e+03 5.21000000e+00 1.46300000e+07]\n",
      " [6.09695850e+03 8.06000000e+00 6.18400000e+06]\n",
      " [5.70032910e+03 7.07000000e+00 2.13630000e+07]\n",
      " [5.39123390e+03 8.65000000e+00 9.39670000e+07]\n",
      " [4.80660940e+03 8.57000000e+00 1.00490000e+07]\n",
      " [4.55355710e+03 3.84000000e+00 2.31550000e+07]\n",
      " [4.35705960e+03 6.59000000e+00 1.23428096e+09]\n",
      " [4.17141650e+03 5.19000000e+00 1.79424992e+08]\n",
      " [3.99276200e+03 6.82000000e+00 5.82400000e+06]\n",
      " [3.93129170e+03 7.66000000e+00 2.47800000e+07]\n",
      " [3.78991040e+03 6.60000000e+00 8.31700000e+06]\n",
      " [3.60878560e+03 3.49000000e+00 3.45450000e+07]\n",
      " [3.42224150e+03 5.11000000e+00 5.06010000e+07]\n",
      " [2.87088720e+03 7.40000000e+00 1.36060000e+07]\n",
      " [2.74112130e+03 3.11000000e+00 1.26780000e+07]\n",
      " [2.68497270e+03 6.41000000e+00 2.03410000e+07]\n",
      " [2.68185860e+03 3.92000000e+00 1.79300000e+06]\n",
      " [2.48403490e+03 6.47000000e+00 4.20310000e+07]\n",
      " [2.45260960e+03 4.93000000e+00 2.05330000e+07]\n",
      " [2.43279760e+03 6.08000000e+00 1.99600000e+06]\n",
      " [2.41110210e+03 6.22000000e+00 1.47575008e+08]\n",
      " [2.33012720e+03 4.94000000e+00 1.43120000e+07]\n",
      " [1.99619620e+03 4.44000000e+00 2.70130000e+07]\n",
      " [1.91999680e+03 4.57000000e+00 9.19900000e+06]\n",
      " [1.87328100e+03 2.14000000e+00 1.50490000e+07]\n",
      " [1.72359420e+03 5.87000000e+00 3.24280000e+07]\n",
      " [1.65026970e+03 5.17000000e+00 9.94900000e+06]\n",
      " [1.47903050e+03 7.86000000e+00 1.26980000e+07]\n",
      " [1.22281510e+03 6.09000000e+00 6.42200000e+06]\n",
      " [1.16187980e+03 4.28000000e+00 6.41600000e+06]\n",
      " [9.72045720e+02 5.01000000e+00 1.45400000e+07]\n",
      " [9.69230770e+02 2.03000000e+00 2.35320000e+07]\n",
      " [8.45869320e+02 1.95000000e+00 1.64640000e+07]\n",
      " [7.86670230e+02 4.35000000e+00 3.89100000e+06]\n",
      " [6.34971370e+02 3.79000000e+00 6.45640000e+07]]\n"
     ]
    }
   ],
   "source": [
    "#6. Plukk ut de tre siste kolonnene i `schooling`, som representerer BNP per capita, \n",
    "#skolegang og befolkning, og konverter dem til datatype `float`. \n",
    "\n",
    "f = schooling[:,-3:].astype(float)\n",
    "\n",
    "g = np.array(schooling[:,-3:], dtype=float)\n",
    "print(g)"
   ]
  },
  {
   "cell_type": "code",
   "execution_count": 15,
   "id": "ca2a32a2-73d5-4b24-86c8-401f8d3a3926",
   "metadata": {},
   "outputs": [],
   "source": [
    "#7. Lag et oppslag (dictionary) med de tre siste kolonnene og passende navn som nøkler. Kall det `schooling_dict`. \n",
    "schooling_dict = {\"bnp\" : f[:,-3],\n",
    "           \"utdanning\":f[:,-2],\n",
    "           \"befolkning\": f[:,-1]}"
   ]
  },
  {
   "cell_type": "code",
   "execution_count": 16,
   "id": "e6c66e13-fc25-4907-8bd1-f2e09342cf12",
   "metadata": {},
   "outputs": [
    {
     "data": {
      "text/plain": [
       "array([73262.68   , 67029.523  , 57882.809  , 55688.02   , 49500.629  ,\n",
       "       47823.504  , 44854.902  , 44004.145  , 43416.223  , 41687.949  ,\n",
       "       40627.23   , 40489.809  , 40421.906  , 40269.031  , 38394.059  ,\n",
       "       38177.945  , 37729.016  , 37188.895  , 36595.633  , 35786.16   ,\n",
       "       34810.281  , 34727.676  , 31610.98   , 31589.705  , 30867.053  ,\n",
       "       28046.375  , 27510.236  , 26129.568  , 25815.799  , 25788.273  ,\n",
       "       22983.451  , 21754.066  , 21006.027  , 20477.799  , 18092.941  ,\n",
       "       17930.68   , 17913.164  , 17328.459  , 16775.609  , 16357.737  ,\n",
       "       15841.659  , 15783.405  , 15178.326  , 15055.237  , 14906.785  ,\n",
       "       14507.013  , 13995.613  , 13541.462  , 12590.226  , 12496.244  ,\n",
       "       12453.482  , 12106.992  , 11500.132  , 11388.641  , 10647.835  ,\n",
       "       10636.5    ,  9544.7402 ,  9351.3877 ,  9344.5439 ,  9337.29   ,\n",
       "        9262.1641 ,  9148.8398 ,  9129.1367 ,  8390.4297 ,  7365.4385 ,\n",
       "        7145.9521 ,  7042.5239 ,  6902.0688 ,  6825.2051 ,  6675.1768 ,\n",
       "        6421.9375 ,  6359.2627 ,  6096.9585 ,  5700.3291 ,  5391.2339 ,\n",
       "        4806.6094 ,  4553.5571 ,  4357.0596 ,  4171.4165 ,  3992.762  ,\n",
       "        3931.2917 ,  3789.9104 ,  3608.7856 ,  3422.2415 ,  2870.8872 ,\n",
       "        2741.1213 ,  2684.9727 ,  2681.8586 ,  2484.0349 ,  2452.6096 ,\n",
       "        2432.7976 ,  2411.1021 ,  2330.1272 ,  1996.1962 ,  1919.9968 ,\n",
       "        1873.281  ,  1723.5942 ,  1650.2697 ,  1479.0305 ,  1222.8151 ,\n",
       "        1161.8798 ,   972.04572,   969.23077,   845.86932,   786.67023,\n",
       "         634.97137])"
      ]
     },
     "execution_count": 16,
     "metadata": {},
     "output_type": "execute_result"
    }
   ],
   "source": [
    "schooling_dict[\"bnp\"]"
   ]
  },
  {
   "cell_type": "code",
   "execution_count": 17,
   "id": "e5482039-faa8-4d78-bec4-1798fd6879a8",
   "metadata": {},
   "outputs": [
    {
     "data": {
      "text/plain": [
       "{'bnp': array([73262.68   , 67029.523  , 57882.809  , 55688.02   , 49500.629  ,\n",
       "        47823.504  , 44854.902  , 44004.145  , 43416.223  , 41687.949  ,\n",
       "        40627.23   , 40489.809  , 40421.906  , 40269.031  , 38394.059  ,\n",
       "        38177.945  , 37729.016  , 37188.895  , 36595.633  , 35786.16   ,\n",
       "        34810.281  , 34727.676  , 31610.98   , 31589.705  , 30867.053  ,\n",
       "        28046.375  , 27510.236  , 26129.568  , 25815.799  , 25788.273  ,\n",
       "        22983.451  , 21754.066  , 21006.027  , 20477.799  , 18092.941  ,\n",
       "        17930.68   , 17913.164  , 17328.459  , 16775.609  , 16357.737  ,\n",
       "        15841.659  , 15783.405  , 15178.326  , 15055.237  , 14906.785  ,\n",
       "        14507.013  , 13995.613  , 13541.462  , 12590.226  , 12496.244  ,\n",
       "        12453.482  , 12106.992  , 11500.132  , 11388.641  , 10647.835  ,\n",
       "        10636.5    ,  9544.7402 ,  9351.3877 ,  9344.5439 ,  9337.29   ,\n",
       "         9262.1641 ,  9148.8398 ,  9129.1367 ,  8390.4297 ,  7365.4385 ,\n",
       "         7145.9521 ,  7042.5239 ,  6902.0688 ,  6825.2051 ,  6675.1768 ,\n",
       "         6421.9375 ,  6359.2627 ,  6096.9585 ,  5700.3291 ,  5391.2339 ,\n",
       "         4806.6094 ,  4553.5571 ,  4357.0596 ,  4171.4165 ,  3992.762  ,\n",
       "         3931.2917 ,  3789.9104 ,  3608.7856 ,  3422.2415 ,  2870.8872 ,\n",
       "         2741.1213 ,  2684.9727 ,  2681.8586 ,  2484.0349 ,  2452.6096 ,\n",
       "         2432.7976 ,  2411.1021 ,  2330.1272 ,  1996.1962 ,  1919.9968 ,\n",
       "         1873.281  ,  1723.5942 ,  1650.2697 ,  1479.0305 ,  1222.8151 ,\n",
       "         1161.8798 ,   972.04572,   969.23077,   845.86932,   786.67023,\n",
       "          634.97137]),\n",
       " 'utdanning': array([11.65,  6.39, 11.33, 12.92, 13.24, 12.45, 11.69, 11.71, 11.97,\n",
       "        12.2 , 12.58, 10.13, 11.95, 12.74, 10.71, 11.29, 11.48, 11.96,\n",
       "        12.44, 11.34, 12.46, 10.71, 10.75, 12.96, 11.12, 11.76, 10.96,\n",
       "        12.8 , 11.36,  8.71, 11.06, 12.02, 11.62, 11.98, 10.35,  7.44,\n",
       "        10.89,  9.15, 11.08,  8.78,  9.71,  8.61,  9.44,  9.72, 11.07,\n",
       "         9.18,  9.57,  8.17,  7.  ,  8.47, 11.52,  8.43,  8.12,  9.89,\n",
       "         8.  ,  9.35, 10.44, 10.  ,  7.43,  8.25,  9.28,  7.44,  8.02,\n",
       "        10.67,  8.02,  9.63,  5.33, 10.35,  7.99, 10.33,  5.27,  5.21,\n",
       "         8.06,  7.07,  8.65,  8.57,  3.84,  6.59,  5.19,  6.82,  7.66,\n",
       "         6.6 ,  3.49,  5.11,  7.4 ,  3.11,  6.41,  3.92,  6.47,  4.93,\n",
       "         6.08,  6.22,  4.94,  4.44,  4.57,  2.14,  5.87,  5.17,  7.86,\n",
       "         6.09,  4.28,  5.01,  2.03,  1.95,  4.35,  3.79]),\n",
       " 'befolkning': array([4.88600000e+06, 2.99200000e+06, 5.08000000e+05, 7.80900000e+06,\n",
       "        3.09011008e+08, 4.55400000e+06, 2.21550000e+07, 1.66830000e+07,\n",
       "        5.55500000e+06, 6.96600000e+06, 8.08270000e+07, 8.41000000e+06,\n",
       "        9.39000000e+06, 3.41480000e+07, 5.36600000e+06, 1.09390000e+07,\n",
       "        3.20000000e+05, 2.31880000e+07, 1.28542000e+08, 6.28800000e+07,\n",
       "        6.34600000e+07, 5.93250000e+07, 4.69310000e+07, 4.95460000e+07,\n",
       "        4.37000000e+06, 1.11300000e+06, 1.32800000e+06, 1.05370000e+07,\n",
       "        1.08880000e+07, 1.05960000e+07, 4.14000000e+05, 1.43479008e+08,\n",
       "        3.83300000e+07, 9.92700000e+06, 1.70630000e+07, 7.23270000e+07,\n",
       "        2.82080000e+07, 7.37630000e+07, 2.04720000e+07, 2.84400000e+07,\n",
       "        4.08960000e+07, 3.35900000e+06, 1.24800000e+06, 3.64300000e+06,\n",
       "        7.42500000e+06, 1.14093000e+08, 2.82000000e+05, 1.95714000e+08,\n",
       "        3.59770000e+07, 6.71950000e+07, 8.99100000e+06, 4.57700000e+06,\n",
       "        9.69500000e+06, 5.12170000e+07, 1.06350000e+07, 4.52230000e+07,\n",
       "        2.94800000e+06, 7.26200000e+06, 2.97420000e+07, 1.36881101e+09,\n",
       "        2.90280000e+07, 8.27610000e+07, 1.50110000e+07, 2.02620000e+07,\n",
       "        2.41834000e+08, 3.22000000e+05, 1.06500000e+06, 8.60000000e+05,\n",
       "        6.24800000e+06, 2.81000000e+06, 3.23430000e+07, 1.46300000e+07,\n",
       "        6.18400000e+06, 2.13630000e+07, 9.39670000e+07, 1.00490000e+07,\n",
       "        2.31550000e+07, 1.23428096e+09, 1.79424992e+08, 5.82400000e+06,\n",
       "        2.47800000e+07, 8.31700000e+06, 3.45450000e+07, 5.06010000e+07,\n",
       "        1.36060000e+07, 1.26780000e+07, 2.03410000e+07, 1.79300000e+06,\n",
       "        4.20310000e+07, 2.05330000e+07, 1.99600000e+06, 1.47575008e+08,\n",
       "        1.43120000e+07, 2.70130000e+07, 9.19900000e+06, 1.50490000e+07,\n",
       "        3.24280000e+07, 9.94900000e+06, 1.26980000e+07, 6.42200000e+06,\n",
       "        6.41600000e+06, 1.45400000e+07, 2.35320000e+07, 1.64640000e+07,\n",
       "        3.89100000e+06, 6.45640000e+07]),\n",
       " 'total_schooling': array([5.69219000e+07, 1.91188800e+07, 5.75564000e+06, 1.00892280e+08,\n",
       "        4.09130575e+09, 5.66973000e+07, 2.58991950e+08, 1.95357930e+08,\n",
       "        6.64933500e+07, 8.49852000e+07, 1.01680366e+09, 8.51933000e+07,\n",
       "        1.12210500e+08, 4.35045520e+08, 5.74698600e+07, 1.23501310e+08,\n",
       "        3.67360000e+06, 2.77328480e+08, 1.59906248e+09, 7.13059200e+08,\n",
       "        7.90711600e+08, 6.35370750e+08, 5.04508250e+08, 6.42116160e+08,\n",
       "        4.85944000e+07, 1.30888800e+07, 1.45548800e+07, 1.34873600e+08,\n",
       "        1.23687680e+08, 9.22911600e+07, 4.57884000e+06, 1.72461768e+09,\n",
       "        4.45394600e+08, 1.18925460e+08, 1.76602050e+08, 5.38112880e+08,\n",
       "        3.07185120e+08, 6.74931450e+08, 2.26829760e+08, 2.49703200e+08,\n",
       "        3.97100160e+08, 2.89209900e+07, 1.17811200e+07, 3.54099600e+07,\n",
       "        8.21947500e+07, 1.04737374e+09, 2.69874000e+06, 1.59898338e+09,\n",
       "        2.51839000e+08, 5.69141650e+08, 1.03576320e+08, 3.85841100e+07,\n",
       "        7.87234000e+07, 5.06536130e+08, 8.50800000e+07, 4.22835050e+08,\n",
       "        3.07771200e+07, 7.26200000e+07, 2.20983060e+08, 1.12926908e+10,\n",
       "        2.69379840e+08, 6.15741840e+08, 1.20388220e+08, 2.16195540e+08,\n",
       "        1.93950868e+09, 3.10086000e+06, 5.67645000e+06, 8.90100000e+06,\n",
       "        4.99215200e+07, 2.90273000e+07, 1.70447610e+08, 7.62223000e+07,\n",
       "        4.98430400e+07, 1.51036410e+08, 8.12814550e+08, 8.61199300e+07,\n",
       "        8.89152000e+07, 8.13391153e+09, 9.31215708e+08, 3.97196800e+07,\n",
       "        1.89814800e+08, 5.48922000e+07, 1.20562050e+08, 2.58571110e+08,\n",
       "        1.00684400e+08, 3.94285800e+07, 1.30385810e+08, 7.02856000e+06,\n",
       "        2.71940570e+08, 1.01227690e+08, 1.21356800e+07, 9.17916550e+08,\n",
       "        7.07012800e+07, 1.19937720e+08, 4.20394300e+07, 3.22048600e+07,\n",
       "        1.90352360e+08, 5.14363300e+07, 9.98062800e+07, 3.91099800e+07,\n",
       "        2.74604800e+07, 7.28454000e+07, 4.77699600e+07, 3.21048000e+07,\n",
       "        1.69258500e+07, 2.44697560e+08])}"
      ]
     },
     "execution_count": 17,
     "metadata": {},
     "output_type": "execute_result"
    }
   ],
   "source": [
    "#8. Lag en ny variabel i oppslaget med navn \"Total schooling\" som er produktet av skolegang og befolkning.\n",
    "schooling_dict[\"total_schooling\"] = schooling_dict[\"utdanning\"]*schooling_dict[\"befolkning\"]  \n",
    "schooling_dict"
   ]
  },
  {
   "cell_type": "code",
   "execution_count": 18,
   "id": "554abf6a-678b-4984-bd19-5bd00d0c914e",
   "metadata": {},
   "outputs": [],
   "source": [
    "#9 Lag en ny variabel \"Total GDP\" som er produktet av BNP per capita og befolkning.\n",
    "schooling_dict[\"Total GDP\"] = schooling_dict[\"bnp\"] * schooling_dict[\"utdanning\"]"
   ]
  },
  {
   "cell_type": "code",
   "execution_count": 19,
   "id": "9d6a1a6e-7148-4672-b600-d580cea844a2",
   "metadata": {},
   "outputs": [
    {
     "data": {
      "text/plain": [
       "<matplotlib.collections.PathCollection at 0x7f341dd0ee20>"
      ]
     },
     "execution_count": 19,
     "metadata": {},
     "output_type": "execute_result"
    },
    {
     "data": {
      "image/png": "[encoded data removed]",
      "text/plain": [
       "<Figure size 432x288 with 1 Axes>"
      ]
     },
     "metadata": {
      "needs_background": "light"
     },
     "output_type": "display_data"
    }
   ],
   "source": [
    "#10. Lag et scatterplot med de to variablene du nettopp lagde. \n",
    "import matplotlib.pyplot as plt\n",
    "plt.scatter(schooling_dict[\"Total GDP\"], schooling_dict[\"total_schooling\"])\n"
   ]
  },
  {
   "cell_type": "code",
   "execution_count": 20,
   "id": "baed398b-a8a3-4e1b-a946-3e298a5db6d4",
   "metadata": {},
   "outputs": [],
   "source": [
    "#11. Lag en ny variabel \"GDP per schooling\" som er BNP per capita delt på skolegang.\n",
    "schooling_dict[\"GDP per schooling\"] = schooling_dict[\"bnp\"]/schooling_dict[\"utdanning\"]"
   ]
  },
  {
   "cell_type": "code",
   "execution_count": 21,
   "id": "4a72af01-cc70-4d90-ad56-154f44cd59bd",
   "metadata": {},
   "outputs": [
    {
     "data": {
      "text/plain": [
       "<BarContainer object of 106 artists>"
      ]
     },
     "execution_count": 21,
     "metadata": {},
     "output_type": "execute_result"
    },
    {
     "data": {
      "image/png": "[encoded data removed]",
      "text/plain": [
       "<Figure size 432x288 with 1 Axes>"
      ]
     },
     "metadata": {
      "needs_background": "light"
     },
     "output_type": "display_data"
    }
   ],
   "source": [
    "#12. Lag et liggende stolpediagram med navn på land og \"GDP per schooling\". Du bruker da funksjonen `plt.barh` på denne måten:\n",
    "import matplotlib.pyplot as plt\n",
    "names = schooling[:, 0]\n",
    "values = schooling_dict[\"GDP per schooling\"]\n",
    "\n",
    "plt.barh(names,values)"
   ]
  },
  {
   "cell_type": "code",
   "execution_count": 22,
   "id": "cad4e61e-3ac1-458c-b5a3-a2e0a5b23f15",
   "metadata": {},
   "outputs": [
    {
     "data": {
      "text/plain": [
       "<BarContainer object of 20 artists>"
      ]
     },
     "execution_count": 22,
     "metadata": {},
     "output_type": "execute_result"
    },
    {
     "data": {
      "image/png": "[encoded data removed]",
      "text/plain": [
       "<Figure size 432x288 with 1 Axes>"
      ]
     },
     "metadata": {
      "needs_background": "light"
     },
     "output_type": "display_data"
    }
   ],
   "source": [
    "#13. Dette blir ikke pent. Velg kun de 20 første landene, og forsøk på nytt. \n",
    "names = schooling[:20, 0]\n",
    "values = schooling_dict[\"GDP per schooling\"][:20]\n",
    "\n",
    "\n",
    "plt.barh(names,values)"
   ]
  },
  {
   "cell_type": "code",
   "execution_count": 23,
   "id": "081d351b-acfb-4386-ba78-5ee40a13a082",
   "metadata": {},
   "outputs": [
    {
     "name": "stderr",
     "output_type": "stream",
     "text": [
      "/usr/local/Miniconda3-py39_4.10.3-Linux-x86_64/lib/python3.9/site-packages/seaborn/_decorators.py:36: FutureWarning: Pass the following variables as keyword args: x, y. From version 0.12, the only valid positional argument will be `data`, and passing other arguments without an explicit keyword will result in an error or misinterpretation.\n",
      "  warnings.warn(\n"
     ]
    },
    {
     "data": {
      "text/plain": [
       "Text(0, 0.5, 'befolkning')"
      ]
     },
     "execution_count": 23,
     "metadata": {},
     "output_type": "execute_result"
    },
    {
     "data": {
      "image/png": "[encoded data removed]",
      "text/plain": [
       "<Figure size 432x288 with 1 Axes>"
      ]
     },
     "metadata": {
      "needs_background": "light"
     },
     "output_type": "display_data"
    }
   ],
   "source": [
    "# 14. Ved hjelp av googling, lag et scatterplot ved hjelp av en annen pakke enn matplotlib\n",
    "import seaborn as sns\n",
    "sns.scatterplot(schooling_dict[\"bnp\"], schooling_dict[\"befolkning\"])\n",
    "plt.xlabel(\"utdanning\")\n",
    "plt.ylabel(\"befolkning\")"
   ]
  }
 ],
 "metadata": {
  "kernelspec": {
   "display_name": "Python 3 (ipykernel)",
   "language": "python",
   "name": "python3"
  },
  "language_info": {
   "codemirror_mode": {
    "name": "ipython",
    "version": 3
   },
   "file_extension": ".py",
   "mimetype": "text/x-python",
   "name": "python",
   "nbconvert_exporter": "python",
   "pygments_lexer": "ipython3",
   "version": "3.9.13"
  }
 },
 "nbformat": 4,
 "nbformat_minor": 5
}

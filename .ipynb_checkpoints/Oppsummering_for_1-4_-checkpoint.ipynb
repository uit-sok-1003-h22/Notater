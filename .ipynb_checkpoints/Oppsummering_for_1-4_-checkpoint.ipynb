{
 "cells": [
  {
   "cell_type": "markdown",
   "id": "c4256632-2366-4b54-8457-0c191da630eb",
   "metadata": {
    "tags": []
   },
   "source": [
    "# Oppsummering fra forelesning 1-4"
   ]
  },
  {
   "cell_type": "markdown",
   "id": "518f975e-10a3-4277-8985-6188a0728a6b",
   "metadata": {},
   "source": [
    "##### For å hente denne filen til Jupyter gjør du slik:\n",
    "\n",
    "<ol>\n",
    "<li>Åpne et \"terminalvindu\"\n",
    "<li>Gå til hjemmeområdet ditt\n",
    "    \n",
    "    \n",
    "    [user@jupty02 ~]$ cd\n",
    "<li>Lag en ny mappe på ditt hjemmeområde ved å skrive inn i terminalvinduet \n",
    "\n",
    "    [user@jupty02 ~]$ mkdir oppsummering\n",
    "\n",
    "<li>Gå så inn i den mappen du har laget ved å skrive\n",
    "\n",
    "    [user@jupty02 ~]$ cd oppsummering \n",
    "<li> Last ned kursmateriellet ved å kopiere inn følgende kommando i kommandovinduet:\n",
    "\n",
    "    [user@jupty02 sok-1003]$ git clone https://github.com/uit-sok-1003-h22/Notater/\n",
    "\n",
    "<br><hr><br>"
   ]
  },
  {
   "cell_type": "markdown",
   "id": "63d264f3-119c-4b76-856c-112acaa974da",
   "metadata": {},
   "source": [
    "# Variabler"
   ]
  },
  {
   "cell_type": "markdown",
   "id": "c0aca2e6-6890-45a7-9993-979f1e284ceb",
   "metadata": {},
   "source": [
    "Variablene i Python kan være ulike objekter som i alle andre programmeringsspråk, og typen objekt defineres av hva du setter variabelen til. Det er vanlig å definere stort sett alle variabler med små bokstaver i Python. Kun unntaksvis brukes store bokstaver.\n",
    "\n",
    "Du kan ikke bruke mellomrom i variabelnavn. Det vil oppfattes som flere ulike navn. For eksempel er `number_of_apples`  tillatt men ikke \"number of apples\". Vi bruker også kun engelske bokstaver, selv om norske fungerer. "
   ]
  },
  {
   "cell_type": "markdown",
   "id": "bb9e645a-f1fa-4b46-8ae0-2a7155eae3ed",
   "metadata": {},
   "source": [
    "De fire variablene vi skal se på er \n",
    "- bool\n",
    "- int\n",
    "- float\n",
    "- str\n",
    "\n",
    "Man kan undersøke typen variabel ved å bruke funksjonen `type`\n"
   ]
  },
  {
   "cell_type": "markdown",
   "id": "4c6e8021-12b0-4cb0-ae22-32d46b2ab8e7",
   "metadata": {},
   "source": [
    "##  `bool` (Sann/Usann)"
   ]
  },
  {
   "cell_type": "markdown",
   "id": "a01f2a14-cf1d-4181-9cb4-500215e7a374",
   "metadata": {},
   "source": [
    "Den enkleste variabelen i Python er den binære typen \"bool\". Den kan ta to verdier, `True` eller `False` (sant eller usant). Denne variabelen brukes mest i sammenhenger der vi skal teste om et vilkår er oppfylt eller ikke. Da bruker vi `if`-setninger, som vi skal komme tilbake til.\n",
    "\n",
    "Vi kan sjekke hvilken type en variabel er med funksjonen type(). Under får vi bekreftet `apple_is_tasty` er en boolsk variabel.\n",
    "\n",
    "#### Eksempel 1:"
   ]
  },
  {
   "cell_type": "code",
   "execution_count": 319,
   "id": "b836f456-507e-4d31-b8f0-12e670bc3e28",
   "metadata": {},
   "outputs": [
    {
     "data": {
      "text/plain": [
       "True"
      ]
     },
     "execution_count": 319,
     "metadata": {},
     "output_type": "execute_result"
    }
   ],
   "source": [
    "#bool\n",
    "apple_is_tasty=True\n",
    "apple_is_tasty"
   ]
  },
  {
   "cell_type": "markdown",
   "id": "3a5ea571-d6b9-4e8a-b030-73b24880135d",
   "metadata": {},
   "source": [
    "## `int` (heltall)"
   ]
  },
  {
   "cell_type": "markdown",
   "id": "a853b4ee-ea26-4370-a63d-3510c0e5b2f7",
   "metadata": {},
   "source": [
    "int representerer hele tall i Python. Under ser vi at Python tolker  8 som et heltall:\n",
    "\n",
    "#### Eksempel 2:"
   ]
  },
  {
   "cell_type": "code",
   "execution_count": 321,
   "id": "077d2e46-73f1-4d0d-86fe-4a31ccda47b0",
   "metadata": {},
   "outputs": [
    {
     "data": {
      "text/plain": [
       "8"
      ]
     },
     "execution_count": 321,
     "metadata": {},
     "output_type": "execute_result"
    }
   ],
   "source": [
    "# integer:\n",
    "number_of_apples = 8\n",
    "type(number_of_apples)\n",
    "number_of_apples"
   ]
  },
  {
   "cell_type": "markdown",
   "id": "5772ffa5-664e-43ef-8dfa-baf1b2eabbaa",
   "metadata": {},
   "source": [
    "## `float` (desimaltall)"
   ]
  },
  {
   "cell_type": "markdown",
   "id": "5ec16217-c410-4eea-9c56-f6103ba0278b",
   "metadata": {},
   "source": [
    "Regning gjøres vanligvis med desimaltall, eller \"floating point\" som det kalles av på fagspråket.  I python heter derfor denne variabeltypen  `float`.\n",
    "\n",
    "Om for eksempel 11 skal tolkes som et heltall, gir vi beskjed til Python om at det er et desimaltall ved å skrive det med én desimal. Alle programmeringsspråk, inkludert Python, bruker punktum som desimaltegn. \n",
    "\n",
    "#### Eksempel 3:"
   ]
  },
  {
   "cell_type": "code",
   "execution_count": 324,
   "id": "b7edec1b-6ec8-454b-9641-c80f25cf95a6",
   "metadata": {},
   "outputs": [
    {
     "name": "stdout",
     "output_type": "stream",
     "text": [
      "<class 'float'>\n",
      "11.2\n"
     ]
    }
   ],
   "source": [
    "# floating point (float):\n",
    "apple_price = 11.2\n",
    "print(type(apple_price))\n",
    "print(apple_price)"
   ]
  },
  {
   "cell_type": "markdown",
   "id": "69aa58bf-9a26-4f61-b09f-c10df8844827",
   "metadata": {},
   "source": [
    "### `str` (tekst)"
   ]
  },
  {
   "cell_type": "markdown",
   "id": "f4051d8e-c116-4075-aa1a-10d99ae91faa",
   "metadata": {},
   "source": [
    "Tekst kalles \"streng\" på dataspråket, eller \"string\" på engelsk. Typen som representerer tekst heter derfor `str`. Vi forteller Python at dette er en tekst ved å sette anførselstegn rundt. Her er et eksempel på en streng:\n",
    "\n",
    "#### Eksempel 4:"
   ]
  },
  {
   "cell_type": "code",
   "execution_count": 325,
   "id": "11e4ed15-3c99-4b54-bc71-090982967c69",
   "metadata": {},
   "outputs": [
    {
     "data": {
      "text/plain": [
       "str"
      ]
     },
     "execution_count": 325,
     "metadata": {},
     "output_type": "execute_result"
    }
   ],
   "source": [
    "# string:\n",
    "x=\"Dette er en streng (dvs tekst)\"\n",
    "type(x)"
   ]
  },
  {
   "cell_type": "markdown",
   "id": "fb38a493-3632-42b8-89a7-5ad88a684009",
   "metadata": {},
   "source": [
    "Det er enkelt å sette sammen `string` og andre variabler i Python. Det er flere måter å gjøre det på, men vi skal bruke en metode som er ganske ny i Python. Fra og med versjon 3.6 kom noe som kalles \"f-strings\" som gir oss en veldig enkel måte å blandet tekst og andre variabler. Her er et eksempel:\n",
    "\n",
    "#### Eksempel 5:"
   ]
  },
  {
   "cell_type": "code",
   "execution_count": 328,
   "id": "a704c7b2-55a2-4f4f-a6e1-cb336ba93282",
   "metadata": {
    "tags": []
   },
   "outputs": [
    {
     "name": "stdout",
     "output_type": "stream",
     "text": [
      "Det er 8 at jeg synes epler smaker godt.\n",
      "fadfkjbnfas\n",
      "asdffkbnaa\n"
     ]
    }
   ],
   "source": [
    "print(f\"\"\"Det er {number_of_apples} at jeg synes epler smaker godt.\n",
    "fadfkjbnfas\n",
    "asdffkbnaa\"\"\")"
   ]
  },
  {
   "cell_type": "markdown",
   "id": "59ed86d3-f263-49fe-bebf-4d71b6fe8f61",
   "metadata": {
    "tags": []
   },
   "source": [
    "<br> Store tall forkortes ved bruk av notasjonen \"e\"\n",
    "\n",
    "#### Eksempel 6:"
   ]
  },
  {
   "cell_type": "code",
   "execution_count": 334,
   "id": "afd9ed24-94ec-4817-bf01-59e8075ad4a5",
   "metadata": {},
   "outputs": [
    {
     "name": "stdout",
     "output_type": "stream",
     "text": [
      "0.001\n",
      "10000000.0\n"
     ]
    }
   ],
   "source": [
    "print(1e-3)\n",
    "print(1e+7)"
   ]
  },
  {
   "cell_type": "markdown",
   "id": "72555e2a-06f0-453f-a98d-613d4acc6a6e",
   "metadata": {},
   "source": [
    "## Innebygde funksjoner"
   ]
  },
  {
   "cell_type": "markdown",
   "id": "3396d0a9-a474-4979-b8c1-5d5ee9fce6fb",
   "metadata": {},
   "source": [
    "Python kommer med en rekke innebygde funksjoner. I tillegg kan du importere pakker som har en lang rekke funksjoner. Her er noen innebygde funksjoner i Python:\n",
    "\n",
    "#### Eksempel 7:"
   ]
  },
  {
   "cell_type": "code",
   "execution_count": 335,
   "id": "d2c26a0c-28c9-41ba-9829-259cfcca5c77",
   "metadata": {},
   "outputs": [
    {
     "name": "stdout",
     "output_type": "stream",
     "text": [
      "2.4\n",
      "2.0\n",
      "2.4\n",
      "5\n"
     ]
    }
   ],
   "source": [
    "print( max(2.4,2.0)   )\n",
    "print( min(2.4, 2.0)  )\n",
    "print( abs(-2.4)      )\n",
    "print( len(\"abcde\")   )"
   ]
  },
  {
   "cell_type": "markdown",
   "id": "824c1c1f-40c0-4883-98fd-408e49d38264",
   "metadata": {},
   "source": [
    "## Egendefinerte funksjoner "
   ]
  },
  {
   "cell_type": "markdown",
   "id": "3b71d3be-5383-404c-af19-c45506799ed4",
   "metadata": {},
   "source": [
    "Man kan definere egne funksjoner ved `def` fulgt av parenteser hvor argumentene står\n",
    "\n",
    "#### Eksempel 8:"
   ]
  },
  {
   "cell_type": "code",
   "execution_count": 337,
   "id": "82d3d712-d0a2-4c1f-af45-bd2be7ff4aa8",
   "metadata": {},
   "outputs": [
    {
     "name": "stdout",
     "output_type": "stream",
     "text": [
      "20\n"
     ]
    }
   ],
   "source": [
    "def f(x):\n",
    "    return 2*x\n",
    "print(f(10))"
   ]
  },
  {
   "cell_type": "markdown",
   "id": "67550b18-4707-44aa-a78f-ad7babb4306f",
   "metadata": {},
   "source": [
    "Man kan definere en funksjon på flere måter\n",
    "#### Eksempel 9:"
   ]
  },
  {
   "cell_type": "code",
   "execution_count": 338,
   "id": "0ee6ce31-32c5-4ec9-946e-05e34e083072",
   "metadata": {
    "tags": []
   },
   "outputs": [
    {
     "name": "stdout",
     "output_type": "stream",
     "text": [
      "(4, 'hei')\n"
     ]
    }
   ],
   "source": [
    "def f2(x):\n",
    "    y = 2*x\n",
    "    a = \"hei\"\n",
    "    return y, a\n",
    "print(f2(2))"
   ]
  },
  {
   "cell_type": "markdown",
   "id": "6426dbe7-89e5-495b-a432-0645c7cd6e29",
   "metadata": {},
   "source": [
    "En funksjon trenger ikke ha et argument, men det reduserer også fleksibiliteten\n",
    "#### Eksempel 10:"
   ]
  },
  {
   "cell_type": "code",
   "execution_count": 339,
   "id": "9f783bbe-4cac-4673-9de5-e89386b300a3",
   "metadata": {},
   "outputs": [
    {
     "name": "stdout",
     "output_type": "stream",
     "text": [
      "test\n"
     ]
    }
   ],
   "source": [
    "def f3():\n",
    "    return \"test\"\n",
    "print(f3())"
   ]
  },
  {
   "cell_type": "markdown",
   "id": "826f4f4d-bd51-41b9-84a4-32a788659043",
   "metadata": {},
   "source": [
    "Vi kan også ha flere argumenter i en funksjon. Her er et eksempel med renteregning. Om banken legger til renten én gang i året og renten er r, så er lånet på x om T år gitt som $x\\cdot (1+r)^{T}$. Dette kan vi programmere som følgende funksjon:\n",
    "\n",
    "#### Eksempel 11:"
   ]
  },
  {
   "cell_type": "code",
   "execution_count": 340,
   "id": "ca1c223a-9584-4381-8cca-dc370192dbb9",
   "metadata": {},
   "outputs": [],
   "source": [
    "def account_balance(x,r,T):\n",
    "    return x*(1+r)**T"
   ]
  },
  {
   "cell_type": "markdown",
   "id": "96c77e5b-79f6-4b88-a4f8-b40e0b6b1818",
   "metadata": {
    "tags": []
   },
   "source": [
    "Om renten på lånet er 20%=0.2 og innskuddet er 100, så er beløpet om to år dermed:\n"
   ]
  },
  {
   "cell_type": "code",
   "execution_count": 349,
   "id": "7bd1b8aa-d18b-4e74-be0d-4a732f2f8f95",
   "metadata": {},
   "outputs": [
    {
     "name": "stdout",
     "output_type": "stream",
     "text": [
      "726.8254992160187\n",
      "619.1736422399997\n"
     ]
    }
   ],
   "source": [
    "print(account_balance(100,0.2,10))"
   ]
  },
  {
   "cell_type": "markdown",
   "id": "b72f859d-2536-459d-a16a-7a64ca06348e",
   "metadata": {},
   "source": [
    "Merk at funksjonen er definert ved en `tuple`, som vi ser av parentesene etter navnet på funksjonen. Med det, kunne vi definert ulike kombinasjoner av parametere i funksjonen på forhånd\n",
    "\n",
    "#### Eksempel 12:"
   ]
  },
  {
   "cell_type": "code",
   "execution_count": 350,
   "id": "6adb2b96-c41c-4d29-804c-4fa85e36f61f",
   "metadata": {},
   "outputs": [
    {
     "name": "stdout",
     "output_type": "stream",
     "text": [
      "(100, 0.2, 10)\n",
      "(200, 0.5, 10)\n",
      "(200, 0.5, 20)\n"
     ]
    }
   ],
   "source": [
    "arg1 = (100, 0.2, 10)\n",
    "arg2 = (200, 0.5, 10)\n",
    "arg3 = (200, 0.5, 20)\n",
    "\n",
    "print(arg1)\n",
    "print(arg2)\n",
    "print(arg3)"
   ]
  },
  {
   "cell_type": "markdown",
   "id": "c2ff17df-d194-438c-84e1-17d2d59e9b48",
   "metadata": {},
   "source": [
    "Vi forteller så python at de skal tolke \"arg\" som en datastrukturen `tuple` ved hjelp av *"
   ]
  },
  {
   "cell_type": "code",
   "execution_count": 351,
   "id": "8ef4f601-1f26-4052-ab30-a6f56bc8f391",
   "metadata": {},
   "outputs": [
    {
     "name": "stdout",
     "output_type": "stream",
     "text": [
      "619.1736422399997\n",
      "11533.0078125\n",
      "665051.3460159302\n"
     ]
    }
   ],
   "source": [
    "print(account_balance(*arg1))\n",
    "print(account_balance(*arg2))\n",
    "print(account_balance(*arg3))"
   ]
  },
  {
   "cell_type": "markdown",
   "id": "7271b61f-6ea7-4c61-91e2-69eac9ddc229",
   "metadata": {},
   "source": [
    "# Enkle grafer"
   ]
  },
  {
   "cell_type": "markdown",
   "id": "53f86e04-d9aa-4c9b-bec0-900dd8ded56a",
   "metadata": {},
   "source": [
    "Det er fint å kunne lage funksjoner i Python, men det er enda bedre å *se* dem. Vi skal nå se på hvordan vi kan tegne resultatet av funksjoner i et diagram ved hjelp av pakken `matplotlib`. \n",
    "\n",
    "Ofte ønsker vil å bruke matplotlib til å vise oss sammenhenger i data vi har hentet inn. Når vi importerer data til Python bruker vi vanligvis pakken `pandas`. Vi kommer sener tilbake til hvordan vi arbeider med data i `pandas`, så foreløpig skal vi ikke gjøre noe mer enn å importere og bruke dataene i `matplotlib`. \n",
    "\n",
    "Vi starter derfor med å *importere* `matplotlib`, `numpy` og `pandas`:\n",
    "\n",
    "#### Eksempel 13:"
   ]
  },
  {
   "cell_type": "code",
   "execution_count": 352,
   "id": "b2812bed-4269-4d32-9c67-ea074e7fac02",
   "metadata": {},
   "outputs": [],
   "source": [
    "import numpy as np\n",
    "import matplotlib.pyplot as plt\n",
    "import pandas as pd"
   ]
  },
  {
   "cell_type": "markdown",
   "id": "c986500d-445b-4cc0-a930-d1ee2428e608",
   "metadata": {},
   "source": [
    "### Hvis man trenger hjelp til en pakke kan det være lurt å se på oppslaget for pakken"
   ]
  },
  {
   "attachments": {
    "6f77f787-9454-42a2-bd10-4808c20f4a4e.png": {
     "image/png": "[encoded data removed]"
    }
   },
   "cell_type": "markdown",
   "id": "45df2518-83f3-427e-bcc0-5b5def8c1764",
   "metadata": {},
   "source": [
    "![image.png](attachment:6f77f787-9454-42a2-bd10-4808c20f4a4e.png)"
   ]
  },
  {
   "cell_type": "markdown",
   "id": "f1546253-82bf-4d90-a6f7-ae7d75034a85",
   "metadata": {},
   "source": [
    "Vi definerer to lister. Som det fremgår av oppslaget for pakken over, trenger vi bare å definere y variabelen. Den tar da indeksen som x-akse\n",
    "\n",
    "#### Eksempel 14:"
   ]
  },
  {
   "cell_type": "code",
   "execution_count": 568,
   "id": "d7230031-3337-4e40-a430-1f88a8b356f0",
   "metadata": {},
   "outputs": [
    {
     "data": {
      "text/plain": [
       "[<matplotlib.lines.Line2D at 0x7fbe39d441c0>]"
      ]
     },
     "execution_count": 568,
     "metadata": {},
     "output_type": "execute_result"
    },
    {
     "data": {
      "image/png": "[encoded data removed]",
      "text/plain": [
       "<Figure size 432x288 with 1 Axes>"
      ]
     },
     "metadata": {
      "needs_background": "light"
     },
     "output_type": "display_data"
    }
   ],
   "source": [
    "x=[4,7,2]\n",
    "y=[8,2,6]\n",
    "plt.plot(y, x)"
   ]
  },
  {
   "cell_type": "markdown",
   "id": "faa2dc1e-d314-4311-8a7a-ceab4bcb37ec",
   "metadata": {},
   "source": [
    "Hvis vi ønsker å selv definere x-aksen, plottes det enkelt\n",
    "\n",
    "#### Eksempel 15:"
   ]
  },
  {
   "cell_type": "code",
   "execution_count": null,
   "id": "013a057b-b2e4-4e11-aa03-ee6c0e4f5488",
   "metadata": {},
   "outputs": [],
   "source": [
    "plt.plot(x, y)"
   ]
  },
  {
   "cell_type": "markdown",
   "id": "70c7b04c-f0e4-4938-bc9a-a037e4e2de54",
   "metadata": {},
   "source": [
    "Vi kan også ha funksjoner som del av grafene. Her bruker vi log av x, ved å bruke `np.log`\n",
    "\n",
    "#### Eksempel 16:"
   ]
  },
  {
   "cell_type": "code",
   "execution_count": 567,
   "id": "6020e8b7-9045-4c79-9ff5-0e40055e354b",
   "metadata": {},
   "outputs": [
    {
     "name": "stderr",
     "output_type": "stream",
     "text": [
      "/tmp/ipykernel_20300/4228602004.py:2: RuntimeWarning: divide by zero encountered in log\n",
      "  plt.plot(x, np.log(x))\n"
     ]
    },
    {
     "data": {
      "text/plain": [
       "[<matplotlib.lines.Line2D at 0x7fbe39dd3ac0>]"
      ]
     },
     "execution_count": 567,
     "metadata": {},
     "output_type": "execute_result"
    },
    {
     "data": {
      "image/png": "[encoded data removed]",
      "text/plain": [
       "<Figure size 432x288 with 1 Axes>"
      ]
     },
     "metadata": {
      "needs_background": "light"
     },
     "output_type": "display_data"
    }
   ],
   "source": [
    "x = np.arange(0,10, 1)\n",
    "plt.plot(x, np.log(x))"
   ]
  },
  {
   "cell_type": "markdown",
   "id": "b33678a8-e69d-4dd9-b29d-9c84be13cbb6",
   "metadata": {},
   "source": [
    "Vi kan enkelt vise de samme dataene ved hjelp av andre figurtyper. Her med `pie`. `autopct` hjelper oss å si at det er prosent som skal vises\n",
    "\n",
    "#### Eksempel 17:"
   ]
  },
  {
   "cell_type": "code",
   "execution_count": 372,
   "id": "2950ad71-4ccc-4251-aafc-f71dc23ff874",
   "metadata": {},
   "outputs": [
    {
     "data": {
      "text/plain": [
       "([<matplotlib.patches.Wedge at 0x7fbe3ac0fd90>,\n",
       "  <matplotlib.patches.Wedge at 0x7fbe3ac1a9a0>,\n",
       "  <matplotlib.patches.Wedge at 0x7fbe3ac1a310>],\n",
       " [Text(6.735557395310444e-17, 1.1, ''),\n",
       "  Text(-1.0162674857624157, -0.4209517756015987, ''),\n",
       "  Text(0.420951775601599, -1.0162674857624154, '')])"
      ]
     },
     "execution_count": 372,
     "metadata": {},
     "output_type": "execute_result"
    },
    {
     "data": {
      "image/png": "[encoded data removed]",
      "text/plain": [
       "<Figure size 432x288 with 1 Axes>"
      ]
     },
     "metadata": {},
     "output_type": "display_data"
    }
   ],
   "source": [
    "x=[4,7,2]\n",
    "y=[8,2,6]\n",
    "plt.pie(y) "
   ]
  },
  {
   "cell_type": "markdown",
   "id": "a62c83c4-ecee-413d-b9f6-baba23245b87",
   "metadata": {},
   "source": [
    "Her lager vi et histogram\n",
    "#### Eksempel 18:"
   ]
  },
  {
   "cell_type": "code",
   "execution_count": 569,
   "id": "92f998e4-fc83-4a65-8231-b05e5e92ab6d",
   "metadata": {},
   "outputs": [
    {
     "data": {
      "text/plain": [
       "Text(0.5, 0, 'indeks')"
      ]
     },
     "execution_count": 569,
     "metadata": {},
     "output_type": "execute_result"
    },
    {
     "data": {
      "image/png": "[encoded data removed]",
      "text/plain": [
       "<Figure size 432x288 with 1 Axes>"
      ]
     },
     "metadata": {
      "needs_background": "light"
     },
     "output_type": "display_data"
    }
   ],
   "source": [
    "x=[4,7,2]\n",
    "y=[1,2,3]\n",
    "plt.bar(y, x)\n",
    "plt.ylabel(\"høyde\")\n",
    "plt.xlabel(\"indeks\")"
   ]
  },
  {
   "cell_type": "markdown",
   "id": "ab20c411-c08b-4382-b1ae-3f79022c9a98",
   "metadata": {},
   "source": [
    "Her ser vi med to lister oppå hverandre, ved å spesifisere `bottom` \n",
    "#### Eksempel 19:"
   ]
  },
  {
   "cell_type": "code",
   "execution_count": 575,
   "id": "8642211e-1a12-450f-a5c5-90a2bf95d8e5",
   "metadata": {},
   "outputs": [
    {
     "data": {
      "text/plain": [
       "<BarContainer object of 3 artists>"
      ]
     },
     "execution_count": 575,
     "metadata": {},
     "output_type": "execute_result"
    },
    {
     "data": {
      "image/png": "[encoded data removed]",
      "text/plain": [
       "<Figure size 432x288 with 1 Axes>"
      ]
     },
     "metadata": {
      "needs_background": "light"
     },
     "output_type": "display_data"
    }
   ],
   "source": [
    "x=[4,7,2]\n",
    "z=[6,3,8]\n",
    "y=[1,2,3]\n",
    "plt.bar(y, x)\n",
    "plt.bar(y, z, bottom=x)"
   ]
  },
  {
   "cell_type": "markdown",
   "id": "c6b4e88e-6489-4344-aa21-02147198ca32",
   "metadata": {},
   "source": [
    "Nå skal vi se på plotting av funksjoner. Vi definerte tidligere `account_balance`. Merk at vi nå skriver `set_ylabel` i stedet for `ylabel`. Dette er fordi vi bruker `fig, ax` spesifikasjonen.\n",
    "\n",
    "#### Eksempel 20:\n"
   ]
  },
  {
   "cell_type": "code",
   "execution_count": 378,
   "id": "17329734-151d-44ce-adfe-f6afdbc20b0a",
   "metadata": {},
   "outputs": [],
   "source": [
    "def account_balance(x,r,T):\n",
    "    return x*(1+r)**T"
   ]
  },
  {
   "cell_type": "code",
   "execution_count": 387,
   "id": "a749a60d-3abc-4776-88c3-c2b600b17827",
   "metadata": {},
   "outputs": [
    {
     "data": {
      "text/plain": [
       "<matplotlib.legend.Legend at 0x7fbe3abff730>"
      ]
     },
     "execution_count": 387,
     "metadata": {},
     "output_type": "execute_result"
    },
    {
     "data": {
      "image/png": "[encoded data removed]",
      "text/plain": [
       "<Figure size 432x288 with 1 Axes>"
      ]
     },
     "metadata": {
      "needs_background": "light"
     },
     "output_type": "display_data"
    }
   ],
   "source": [
    "#1. Checking developement over 10 years, with 100 data points\n",
    "T = np.linspace(0,10,100)\n",
    "\n",
    "#2. initiating the plot:\n",
    "fig,ax=plt.subplots()\n",
    "\n",
    "#3. adding axis lables:\n",
    "ax.set_ylabel('Verdi bankinnskudd')\n",
    "ax.set_xlabel('Tid T')\n",
    "\n",
    "#4. plotting the function:\n",
    "ax.plot(T, account_balance(100,0.2,T),          label='Bankinnskudd, årlig forrentning',    color='lightblue')\n",
    "\n",
    "#5. adding legend in the upper left corner:\n",
    "ax.legend(loc='upper left')"
   ]
  },
  {
   "cell_type": "markdown",
   "id": "6eef23e6-1861-40c7-aa33-87ccf5d0d460",
   "metadata": {},
   "source": [
    "Ekstra: her skal vi se på hvordan vi kan bruke pandas til å lage figurer med pakken \"seaborn\". (ikke pensum)\n",
    "#### Eksempel 21:"
   ]
  },
  {
   "cell_type": "code",
   "execution_count": 388,
   "id": "c746a82b-c130-4792-aa0d-7d0da8651ef3",
   "metadata": {},
   "outputs": [],
   "source": [
    "import pandas as pd\n",
    "df = pd.read_csv(\"./annual-working-hours-vs-gdp-per-capita-pwt.csv\")"
   ]
  },
  {
   "cell_type": "code",
   "execution_count": 389,
   "id": "e266aaea-9ab1-4d26-9682-992b0dba9155",
   "metadata": {},
   "outputs": [
    {
     "data": {
      "text/html": [
       "<div>\n",
       "<style scoped>\n",
       "    .dataframe tbody tr th:only-of-type {\n",
       "        vertical-align: middle;\n",
       "    }\n",
       "\n",
       "    .dataframe tbody tr th {\n",
       "        vertical-align: top;\n",
       "    }\n",
       "\n",
       "    .dataframe thead th {\n",
       "        text-align: right;\n",
       "    }\n",
       "</style>\n",
       "<table border=\"1\" class=\"dataframe\">\n",
       "  <thead>\n",
       "    <tr style=\"text-align: right;\">\n",
       "      <th></th>\n",
       "      <th>Entity</th>\n",
       "      <th>Code</th>\n",
       "      <th>Year</th>\n",
       "      <th>Annual working hours per worker</th>\n",
       "      <th>GDP per capita (output, multiple price benchmarks)</th>\n",
       "      <th>Population (historical estimates)</th>\n",
       "      <th>Continent</th>\n",
       "    </tr>\n",
       "  </thead>\n",
       "  <tbody>\n",
       "    <tr>\n",
       "      <th>0</th>\n",
       "      <td>Abkhazia</td>\n",
       "      <td>OWID_ABK</td>\n",
       "      <td>2015</td>\n",
       "      <td>NaN</td>\n",
       "      <td>NaN</td>\n",
       "      <td>NaN</td>\n",
       "      <td>Asia</td>\n",
       "    </tr>\n",
       "    <tr>\n",
       "      <th>1</th>\n",
       "      <td>Afghanistan</td>\n",
       "      <td>AFG</td>\n",
       "      <td>0</td>\n",
       "      <td>NaN</td>\n",
       "      <td>NaN</td>\n",
       "      <td>1999997.0</td>\n",
       "      <td>NaN</td>\n",
       "    </tr>\n",
       "    <tr>\n",
       "      <th>2</th>\n",
       "      <td>Afghanistan</td>\n",
       "      <td>AFG</td>\n",
       "      <td>100</td>\n",
       "      <td>NaN</td>\n",
       "      <td>NaN</td>\n",
       "      <td>2250002.0</td>\n",
       "      <td>NaN</td>\n",
       "    </tr>\n",
       "    <tr>\n",
       "      <th>3</th>\n",
       "      <td>Afghanistan</td>\n",
       "      <td>AFG</td>\n",
       "      <td>200</td>\n",
       "      <td>NaN</td>\n",
       "      <td>NaN</td>\n",
       "      <td>2500001.0</td>\n",
       "      <td>NaN</td>\n",
       "    </tr>\n",
       "    <tr>\n",
       "      <th>4</th>\n",
       "      <td>Afghanistan</td>\n",
       "      <td>AFG</td>\n",
       "      <td>300</td>\n",
       "      <td>NaN</td>\n",
       "      <td>NaN</td>\n",
       "      <td>2500001.0</td>\n",
       "      <td>NaN</td>\n",
       "    </tr>\n",
       "    <tr>\n",
       "      <th>...</th>\n",
       "      <td>...</td>\n",
       "      <td>...</td>\n",
       "      <td>...</td>\n",
       "      <td>...</td>\n",
       "      <td>...</td>\n",
       "      <td>...</td>\n",
       "      <td>...</td>\n",
       "    </tr>\n",
       "    <tr>\n",
       "      <th>53903</th>\n",
       "      <td>Zimbabwe</td>\n",
       "      <td>ZWE</td>\n",
       "      <td>2018</td>\n",
       "      <td>NaN</td>\n",
       "      <td>3007.236919</td>\n",
       "      <td>14438812.0</td>\n",
       "      <td>NaN</td>\n",
       "    </tr>\n",
       "    <tr>\n",
       "      <th>53904</th>\n",
       "      <td>Zimbabwe</td>\n",
       "      <td>ZWE</td>\n",
       "      <td>2019</td>\n",
       "      <td>NaN</td>\n",
       "      <td>2787.658975</td>\n",
       "      <td>14645473.0</td>\n",
       "      <td>NaN</td>\n",
       "    </tr>\n",
       "    <tr>\n",
       "      <th>53905</th>\n",
       "      <td>Zimbabwe</td>\n",
       "      <td>ZWE</td>\n",
       "      <td>2020</td>\n",
       "      <td>NaN</td>\n",
       "      <td>NaN</td>\n",
       "      <td>14862927.0</td>\n",
       "      <td>NaN</td>\n",
       "    </tr>\n",
       "    <tr>\n",
       "      <th>53906</th>\n",
       "      <td>Zimbabwe</td>\n",
       "      <td>ZWE</td>\n",
       "      <td>2021</td>\n",
       "      <td>NaN</td>\n",
       "      <td>NaN</td>\n",
       "      <td>15092171.0</td>\n",
       "      <td>NaN</td>\n",
       "    </tr>\n",
       "    <tr>\n",
       "      <th>53907</th>\n",
       "      <td>Åland Islands</td>\n",
       "      <td>ALA</td>\n",
       "      <td>2015</td>\n",
       "      <td>NaN</td>\n",
       "      <td>NaN</td>\n",
       "      <td>NaN</td>\n",
       "      <td>Europe</td>\n",
       "    </tr>\n",
       "  </tbody>\n",
       "</table>\n",
       "<p>53908 rows × 7 columns</p>\n",
       "</div>"
      ],
      "text/plain": [
       "              Entity      Code  Year  Annual working hours per worker  \\\n",
       "0           Abkhazia  OWID_ABK  2015                              NaN   \n",
       "1        Afghanistan       AFG     0                              NaN   \n",
       "2        Afghanistan       AFG   100                              NaN   \n",
       "3        Afghanistan       AFG   200                              NaN   \n",
       "4        Afghanistan       AFG   300                              NaN   \n",
       "...              ...       ...   ...                              ...   \n",
       "53903       Zimbabwe       ZWE  2018                              NaN   \n",
       "53904       Zimbabwe       ZWE  2019                              NaN   \n",
       "53905       Zimbabwe       ZWE  2020                              NaN   \n",
       "53906       Zimbabwe       ZWE  2021                              NaN   \n",
       "53907  Åland Islands       ALA  2015                              NaN   \n",
       "\n",
       "       GDP per capita (output, multiple price benchmarks)  \\\n",
       "0                                                    NaN    \n",
       "1                                                    NaN    \n",
       "2                                                    NaN    \n",
       "3                                                    NaN    \n",
       "4                                                    NaN    \n",
       "...                                                  ...    \n",
       "53903                                        3007.236919    \n",
       "53904                                        2787.658975    \n",
       "53905                                                NaN    \n",
       "53906                                                NaN    \n",
       "53907                                                NaN    \n",
       "\n",
       "       Population (historical estimates) Continent  \n",
       "0                                    NaN      Asia  \n",
       "1                              1999997.0       NaN  \n",
       "2                              2250002.0       NaN  \n",
       "3                              2500001.0       NaN  \n",
       "4                              2500001.0       NaN  \n",
       "...                                  ...       ...  \n",
       "53903                         14438812.0       NaN  \n",
       "53904                         14645473.0       NaN  \n",
       "53905                         14862927.0       NaN  \n",
       "53906                         15092171.0       NaN  \n",
       "53907                                NaN    Europe  \n",
       "\n",
       "[53908 rows x 7 columns]"
      ]
     },
     "execution_count": 389,
     "metadata": {},
     "output_type": "execute_result"
    }
   ],
   "source": [
    "df\n"
   ]
  },
  {
   "cell_type": "code",
   "execution_count": 390,
   "id": "e2b2116a-fa2e-42a6-86a3-49a690bc5417",
   "metadata": {},
   "outputs": [
    {
     "data": {
      "text/plain": [
       "Index(['Entity', 'Code', 'Year', 'Annual working hours per worker',\n",
       "       'GDP per capita (output, multiple price benchmarks)',\n",
       "       'Population (historical estimates)', 'Continent'],\n",
       "      dtype='object')"
      ]
     },
     "execution_count": 390,
     "metadata": {},
     "output_type": "execute_result"
    }
   ],
   "source": [
    "df.columns \n"
   ]
  },
  {
   "cell_type": "code",
   "execution_count": 391,
   "id": "0e64b05d-1029-49ed-9ef7-fb43ebb10c9b",
   "metadata": {},
   "outputs": [],
   "source": [
    "df.columns = [\"country\", \"code\", \"year\", \"working_hours\", \"gdp\", \"population\", \"continent\"]"
   ]
  },
  {
   "cell_type": "code",
   "execution_count": 392,
   "id": "4dbabc62-42d3-40e1-adfd-9ae317b79f9c",
   "metadata": {
    "tags": []
   },
   "outputs": [
    {
     "data": {
      "text/html": [
       "<div>\n",
       "<style scoped>\n",
       "    .dataframe tbody tr th:only-of-type {\n",
       "        vertical-align: middle;\n",
       "    }\n",
       "\n",
       "    .dataframe tbody tr th {\n",
       "        vertical-align: top;\n",
       "    }\n",
       "\n",
       "    .dataframe thead th {\n",
       "        text-align: right;\n",
       "    }\n",
       "</style>\n",
       "<table border=\"1\" class=\"dataframe\">\n",
       "  <thead>\n",
       "    <tr style=\"text-align: right;\">\n",
       "      <th></th>\n",
       "      <th>country</th>\n",
       "      <th>code</th>\n",
       "      <th>year</th>\n",
       "      <th>working_hours</th>\n",
       "      <th>gdp</th>\n",
       "      <th>population</th>\n",
       "      <th>continent</th>\n",
       "    </tr>\n",
       "  </thead>\n",
       "  <tbody>\n",
       "    <tr>\n",
       "      <th>0</th>\n",
       "      <td>Abkhazia</td>\n",
       "      <td>OWID_ABK</td>\n",
       "      <td>2015</td>\n",
       "      <td>NaN</td>\n",
       "      <td>NaN</td>\n",
       "      <td>NaN</td>\n",
       "      <td>Asia</td>\n",
       "    </tr>\n",
       "    <tr>\n",
       "      <th>1</th>\n",
       "      <td>Afghanistan</td>\n",
       "      <td>AFG</td>\n",
       "      <td>0</td>\n",
       "      <td>NaN</td>\n",
       "      <td>NaN</td>\n",
       "      <td>1999997.0</td>\n",
       "      <td>NaN</td>\n",
       "    </tr>\n",
       "    <tr>\n",
       "      <th>2</th>\n",
       "      <td>Afghanistan</td>\n",
       "      <td>AFG</td>\n",
       "      <td>100</td>\n",
       "      <td>NaN</td>\n",
       "      <td>NaN</td>\n",
       "      <td>2250002.0</td>\n",
       "      <td>NaN</td>\n",
       "    </tr>\n",
       "    <tr>\n",
       "      <th>3</th>\n",
       "      <td>Afghanistan</td>\n",
       "      <td>AFG</td>\n",
       "      <td>200</td>\n",
       "      <td>NaN</td>\n",
       "      <td>NaN</td>\n",
       "      <td>2500001.0</td>\n",
       "      <td>NaN</td>\n",
       "    </tr>\n",
       "    <tr>\n",
       "      <th>4</th>\n",
       "      <td>Afghanistan</td>\n",
       "      <td>AFG</td>\n",
       "      <td>300</td>\n",
       "      <td>NaN</td>\n",
       "      <td>NaN</td>\n",
       "      <td>2500001.0</td>\n",
       "      <td>NaN</td>\n",
       "    </tr>\n",
       "    <tr>\n",
       "      <th>...</th>\n",
       "      <td>...</td>\n",
       "      <td>...</td>\n",
       "      <td>...</td>\n",
       "      <td>...</td>\n",
       "      <td>...</td>\n",
       "      <td>...</td>\n",
       "      <td>...</td>\n",
       "    </tr>\n",
       "    <tr>\n",
       "      <th>53903</th>\n",
       "      <td>Zimbabwe</td>\n",
       "      <td>ZWE</td>\n",
       "      <td>2018</td>\n",
       "      <td>NaN</td>\n",
       "      <td>3007.236919</td>\n",
       "      <td>14438812.0</td>\n",
       "      <td>NaN</td>\n",
       "    </tr>\n",
       "    <tr>\n",
       "      <th>53904</th>\n",
       "      <td>Zimbabwe</td>\n",
       "      <td>ZWE</td>\n",
       "      <td>2019</td>\n",
       "      <td>NaN</td>\n",
       "      <td>2787.658975</td>\n",
       "      <td>14645473.0</td>\n",
       "      <td>NaN</td>\n",
       "    </tr>\n",
       "    <tr>\n",
       "      <th>53905</th>\n",
       "      <td>Zimbabwe</td>\n",
       "      <td>ZWE</td>\n",
       "      <td>2020</td>\n",
       "      <td>NaN</td>\n",
       "      <td>NaN</td>\n",
       "      <td>14862927.0</td>\n",
       "      <td>NaN</td>\n",
       "    </tr>\n",
       "    <tr>\n",
       "      <th>53906</th>\n",
       "      <td>Zimbabwe</td>\n",
       "      <td>ZWE</td>\n",
       "      <td>2021</td>\n",
       "      <td>NaN</td>\n",
       "      <td>NaN</td>\n",
       "      <td>15092171.0</td>\n",
       "      <td>NaN</td>\n",
       "    </tr>\n",
       "    <tr>\n",
       "      <th>53907</th>\n",
       "      <td>Åland Islands</td>\n",
       "      <td>ALA</td>\n",
       "      <td>2015</td>\n",
       "      <td>NaN</td>\n",
       "      <td>NaN</td>\n",
       "      <td>NaN</td>\n",
       "      <td>Europe</td>\n",
       "    </tr>\n",
       "  </tbody>\n",
       "</table>\n",
       "<p>53908 rows × 7 columns</p>\n",
       "</div>"
      ],
      "text/plain": [
       "             country      code  year  working_hours          gdp  population  \\\n",
       "0           Abkhazia  OWID_ABK  2015            NaN          NaN         NaN   \n",
       "1        Afghanistan       AFG     0            NaN          NaN   1999997.0   \n",
       "2        Afghanistan       AFG   100            NaN          NaN   2250002.0   \n",
       "3        Afghanistan       AFG   200            NaN          NaN   2500001.0   \n",
       "4        Afghanistan       AFG   300            NaN          NaN   2500001.0   \n",
       "...              ...       ...   ...            ...          ...         ...   \n",
       "53903       Zimbabwe       ZWE  2018            NaN  3007.236919  14438812.0   \n",
       "53904       Zimbabwe       ZWE  2019            NaN  2787.658975  14645473.0   \n",
       "53905       Zimbabwe       ZWE  2020            NaN          NaN  14862927.0   \n",
       "53906       Zimbabwe       ZWE  2021            NaN          NaN  15092171.0   \n",
       "53907  Åland Islands       ALA  2015            NaN          NaN         NaN   \n",
       "\n",
       "      continent  \n",
       "0          Asia  \n",
       "1           NaN  \n",
       "2           NaN  \n",
       "3           NaN  \n",
       "4           NaN  \n",
       "...         ...  \n",
       "53903       NaN  \n",
       "53904       NaN  \n",
       "53905       NaN  \n",
       "53906       NaN  \n",
       "53907    Europe  \n",
       "\n",
       "[53908 rows x 7 columns]"
      ]
     },
     "execution_count": 392,
     "metadata": {},
     "output_type": "execute_result"
    }
   ],
   "source": [
    "df\n"
   ]
  },
  {
   "cell_type": "markdown",
   "id": "19913cd4-e2bb-4072-9ba9-3b06e1e4fc89",
   "metadata": {},
   "source": [
    "Her velger vi ut 2019 og bruker seaborn\n"
   ]
  },
  {
   "cell_type": "code",
   "execution_count": 393,
   "id": "f3846c36-6b0e-49de-bb99-972c6cb0cfc8",
   "metadata": {},
   "outputs": [],
   "source": [
    "df = df[df[\"year\"]==2019]"
   ]
  },
  {
   "cell_type": "code",
   "execution_count": 395,
   "id": "51cbdfe4-cd86-4560-94a9-479d6b8cc68e",
   "metadata": {
    "tags": []
   },
   "outputs": [
    {
     "data": {
      "text/plain": [
       "<matplotlib.collections.PathCollection at 0x7fbe3a4232e0>"
      ]
     },
     "execution_count": 395,
     "metadata": {},
     "output_type": "execute_result"
    },
    {
     "data": {
      "image/png": "[encoded data removed]",
      "text/plain": [
       "<Figure size 432x288 with 1 Axes>"
      ]
     },
     "metadata": {
      "needs_background": "light"
     },
     "output_type": "display_data"
    }
   ],
   "source": [
    "plt.scatter(df[\"working_hours\"], df[\"gdp\"])"
   ]
  },
  {
   "cell_type": "code",
   "execution_count": 394,
   "id": "b02c19a9-5728-4f3b-8a85-d3de472f47d7",
   "metadata": {},
   "outputs": [
    {
     "data": {
      "text/plain": [
       "<AxesSubplot:xlabel='working_hours', ylabel='gdp'>"
      ]
     },
     "execution_count": 394,
     "metadata": {},
     "output_type": "execute_result"
    },
    {
     "data": {
      "image/png": "[encoded data removed]",
      "text/plain": [
       "<Figure size 432x288 with 1 Axes>"
      ]
     },
     "metadata": {
      "needs_background": "light"
     },
     "output_type": "display_data"
    }
   ],
   "source": [
    "import seaborn as sns\n",
    "df1 = df.dropna(subset = [\"working_hours\"]).head(10)\n",
    "\n",
    "sns.scatterplot(data=df1, x=\"working_hours\", y=\"gdp\", hue=\"country\")"
   ]
  },
  {
   "cell_type": "code",
   "execution_count": null,
   "id": "e88d550a-e1ef-4b8c-99ec-136e6dbd1b1f",
   "metadata": {
    "tags": []
   },
   "outputs": [],
   "source": [
    "plt.bar(df1[\"country\"], df1[\"population\"])\n",
    "plt.xticks(rotation=45)"
   ]
  },
  {
   "cell_type": "markdown",
   "id": "55e160fc-94a3-4da8-86e4-46a9e554f9db",
   "metadata": {},
   "source": [
    "# Datastrukturer\n",
    "\n",
    "Vi skal se på \n",
    "- Lister [ ]\n",
    "- Tuples ( )\n",
    "- Dict {  }\n",
    "- Numpy (matriser)"
   ]
  },
  {
   "cell_type": "markdown",
   "id": "800746ee-42ab-492d-939b-7ac9a0cfdb87",
   "metadata": {},
   "source": [
    "# Lister\n",
    "\n",
    "Lister lages med klammeparenteser. Her er noen lister med navn, forkortelse (Ticker), aksjekurs, markedsverdi, PE og gjeldsgrad for noen aksjer på Oslo Børs. Tallene er fra 27. november 2020 (kilde https://tilon.uit.no). \n",
    "\n",
    "PE er \"Price/Earnings\", som er forholdet mellom selskapenes inntjening og prisen. Gjeldsgrad er hvor stor andel av total kapital som er gjeld. Det som ikke er gjeld er egenkapital. \n",
    "\n",
    "#### Eksempel 22:"
   ]
  },
  {
   "cell_type": "code",
   "execution_count": 396,
   "id": "bee3f0b3-581e-495f-8d97-4f3df55270fe",
   "metadata": {},
   "outputs": [],
   "source": [
    "equinor=['Statoil', 'EQNR', 167.554919090282, 376883380048.5, 6.14609823076753, 0.617893838660362]\n",
    "dnb=['DNB', 'DNB', 164, 259169427140, 11.1121822724349, 0.914999939276725]\n",
    "telenor=['Telenor', 'TEL', 148.737572948101, 227115017138.4, 13.0211568133471, 0.715300723576896]\n",
    "marine_harvest=['Marine Harvest', 'MHG', 225.589705235372, 118004750966.2, 21.6878893009616, 0.440427599611273]\n",
    "aker_bp=['Aker BP', 'AKERBP', 272.499264741749, 103712690592, 26.7636558040214, 0.722568840028356]\n",
    "yara_international=['Yara International', 'YAR', 333.328922090651, 99481443032.4, 86.741957363663, 0.465057636887608]\n",
    "gjensidige_forsikring=['Gjensidige Forsikring', 'GJF', 172.830508474576, 92125000000, 24.9404407385348, 0.847890127134592]"
   ]
  },
  {
   "cell_type": "code",
   "execution_count": 402,
   "id": "ca01ab81-6a63-474f-a979-bf0c20165a5e",
   "metadata": {},
   "outputs": [
    {
     "name": "stdout",
     "output_type": "stream",
     "text": [
      "['Statoil', 'EQNR', 167.554919090282, 376883380048.5, 6.14609823076753, 0.617893838660362]\n",
      "['Statoil', 'EQNR']\n"
     ]
    }
   ],
   "source": [
    "print(equinor)\n",
    "print(equinor[:2])"
   ]
  },
  {
   "cell_type": "code",
   "execution_count": 406,
   "id": "2daa2d79-6f5c-45e0-a002-dfd169fe7120",
   "metadata": {},
   "outputs": [
    {
     "data": {
      "text/plain": [
       "[['Statoil',\n",
       "  'EQNR',\n",
       "  167.554919090282,\n",
       "  376883380048.5,\n",
       "  6.14609823076753,\n",
       "  0.617893838660362],\n",
       " ['DNB', 'DNB', 164, 259169427140, 11.1121822724349, 0.914999939276725],\n",
       " ['Telenor',\n",
       "  'TEL',\n",
       "  148.737572948101,\n",
       "  227115017138.4,\n",
       "  13.0211568133471,\n",
       "  0.715300723576896],\n",
       " ['Marine Harvest',\n",
       "  'MHG',\n",
       "  225.589705235372,\n",
       "  118004750966.2,\n",
       "  21.6878893009616,\n",
       "  0.440427599611273],\n",
       " ['Aker BP',\n",
       "  'AKERBP',\n",
       "  272.499264741749,\n",
       "  103712690592,\n",
       "  26.7636558040214,\n",
       "  0.722568840028356],\n",
       " ['Yara International',\n",
       "  'YAR',\n",
       "  333.328922090651,\n",
       "  99481443032.4,\n",
       "  86.741957363663,\n",
       "  0.465057636887608],\n",
       " ['Gjensidige Forsikring',\n",
       "  'GJF',\n",
       "  172.830508474576,\n",
       "  92125000000,\n",
       "  24.9404407385348,\n",
       "  0.847890127134592]]"
      ]
     },
     "execution_count": 406,
     "metadata": {},
     "output_type": "execute_result"
    }
   ],
   "source": [
    "stocks = [equinor, dnb, telenor, marine_harvest, aker_bp, yara_international, gjensidige_forsikring]\n",
    "\n",
    "stocks2 = equinor + dnb\n",
    "stocks"
   ]
  },
  {
   "cell_type": "markdown",
   "id": "5af5f480-d9bc-4dc3-9e0f-e4df27e7eb7e",
   "metadata": {},
   "source": [
    "Aker BP-askjen er element nummer fem i denne listen. Om vi nå skal referere til den, så bruker vi indeks 4, siden vi starter på null. \n",
    "\n",
    "#### Eksempel 23:"
   ]
  },
  {
   "cell_type": "code",
   "execution_count": 407,
   "id": "ae33d31f-7651-4a13-9d28-eb7197a79d8f",
   "metadata": {},
   "outputs": [
    {
     "data": {
      "text/plain": [
       "['Aker BP',\n",
       " 'AKERBP',\n",
       " 272.499264741749,\n",
       " 103712690592,\n",
       " 26.7636558040214,\n",
       " 0.722568840028356]"
      ]
     },
     "execution_count": 407,
     "metadata": {},
     "output_type": "execute_result"
    }
   ],
   "source": [
    "stocks[4]"
   ]
  },
  {
   "cell_type": "markdown",
   "id": "7c982d73-e9e3-48a8-8245-0eb8e7ede43f",
   "metadata": {},
   "source": [
    "Om du vil referere til siste element, bruker du indeks -1. Vil du referere til nest siste, bruker du indeks -2, og så videre:\n",
    "\n",
    "#### Eksempel 24:"
   ]
  },
  {
   "cell_type": "code",
   "execution_count": 410,
   "id": "445d23c2-b4a3-4127-bc8d-61dc1061f2df",
   "metadata": {
    "scrolled": true
   },
   "outputs": [
    {
     "name": "stdout",
     "output_type": "stream",
     "text": [
      "[['Statoil', 'EQNR', 167.554919090282, 376883380048.5, 6.14609823076753, 0.617893838660362], ['DNB', 'DNB', 164, 259169427140, 11.1121822724349, 0.914999939276725], ['Telenor', 'TEL', 148.737572948101, 227115017138.4, 13.0211568133471, 0.715300723576896], ['Marine Harvest', 'MHG', 225.589705235372, 118004750966.2, 21.6878893009616, 0.440427599611273], ['Aker BP', 'AKERBP', 272.499264741749, 103712690592, 26.7636558040214, 0.722568840028356], ['Yara International', 'YAR', 333.328922090651, 99481443032.4, 86.741957363663, 0.465057636887608], ['Gjensidige Forsikring', 'GJF', 172.830508474576, 92125000000, 24.9404407385348, 0.847890127134592]]\n"
     ]
    }
   ],
   "source": [
    "print(stocks)\n"
   ]
  },
  {
   "cell_type": "markdown",
   "id": "89c8fb5a-eb4f-4ba9-a602-49b66d5b6141",
   "metadata": {},
   "source": [
    "Du kan også referere til flere elementer som står ved siden av hverandre med en såkalt `slice`, eller skjære som vi kan kalle det på norsk:\n",
    "\n",
    "#### Eksempel 25:"
   ]
  },
  {
   "cell_type": "code",
   "execution_count": 411,
   "id": "365be011-0738-4f61-b618-49aa80a09009",
   "metadata": {},
   "outputs": [
    {
     "data": {
      "text/plain": [
       "[['Telenor',\n",
       "  'TEL',\n",
       "  148.737572948101,\n",
       "  227115017138.4,\n",
       "  13.0211568133471,\n",
       "  0.715300723576896],\n",
       " ['Marine Harvest',\n",
       "  'MHG',\n",
       "  225.589705235372,\n",
       "  118004750966.2,\n",
       "  21.6878893009616,\n",
       "  0.440427599611273]]"
      ]
     },
     "execution_count": 411,
     "metadata": {},
     "output_type": "execute_result"
    }
   ],
   "source": [
    "#Fra element to til og med tre:\n",
    "stocks[2:4]"
   ]
  },
  {
   "cell_type": "code",
   "execution_count": 412,
   "id": "17ad7d0e-4a27-4bc3-92a6-38246bfeb299",
   "metadata": {},
   "outputs": [
    {
     "data": {
      "text/plain": [
       "[['Yara International',\n",
       "  'YAR',\n",
       "  333.328922090651,\n",
       "  99481443032.4,\n",
       "  86.741957363663,\n",
       "  0.465057636887608],\n",
       " ['Gjensidige Forsikring',\n",
       "  'GJF',\n",
       "  172.830508474576,\n",
       "  92125000000,\n",
       "  24.9404407385348,\n",
       "  0.847890127134592]]"
      ]
     },
     "execution_count": 412,
     "metadata": {},
     "output_type": "execute_result"
    }
   ],
   "source": [
    "#Fra og med nest siste element:\n",
    "stocks[-2:]"
   ]
  },
  {
   "cell_type": "code",
   "execution_count": null,
   "id": "66260da2-55d4-41ec-9430-142e9a2006a0",
   "metadata": {},
   "outputs": [],
   "source": [
    "#Til og med nest siste element:\n",
    "stocks[:-1]"
   ]
  },
  {
   "cell_type": "markdown",
   "id": "6eea523b-7824-434a-b08c-2bc8b06da9a1",
   "metadata": {},
   "source": [
    "Og vi kan referere til en liste inne i en liste:\n",
    "\n",
    "#### Eksempel 26:"
   ]
  },
  {
   "cell_type": "code",
   "execution_count": 413,
   "id": "bc133127-90cc-40cc-b0f0-74bf61231beb",
   "metadata": {},
   "outputs": [
    {
     "name": "stdout",
     "output_type": "stream",
     "text": [
      "Det tredje selskapet er Telenor\n"
     ]
    }
   ],
   "source": [
    "print(f\"Det tredje selskapet er {stocks[2][0]}\")"
   ]
  },
  {
   "cell_type": "markdown",
   "id": "3f65c3dc-0315-44b6-9648-3a19156f5fc6",
   "metadata": {},
   "source": [
    "Det tredje selskapet, altså Telenor, har indeks to, siden Python starter indekseringen på 0. \n",
    "\n",
    "Det er enkelt å utvide lister, vi bruker bare `+`. Om vi for eksempel vil legge til selskapet `['Tomra Systems', 'TOM', 276.409619134278, 41208789715.2, 52.8996016883184, 0.454299114121939] `, kan vi gjøre det slik:\n",
    "\n",
    "#### Eksempel 27:"
   ]
  },
  {
   "cell_type": "code",
   "execution_count": null,
   "id": "af72ceb2-2bf2-4841-a4f2-29af552ca80c",
   "metadata": {},
   "outputs": [],
   "source": [
    "tomra_systems=['Tomra Systems', 'TOM', 276.409619134278, 41208789715.2, 52.8996016883184, 0.454299114121939]\n",
    "stocks=stocks+[tomra_systems]\n",
    "\n",
    "len(stocks)"
   ]
  },
  {
   "cell_type": "markdown",
   "id": "0505892f-af1f-401c-891b-f22e3d7cd8d3",
   "metadata": {},
   "source": [
    "# Unngå uønsket endring av objekter\n",
    "\n",
    "En veldig vanlig nybegynnerfeil i Python er å glemme at selv om et objekt, slik som en liste, har fått nytt navn, så er det fortsatt det samme objektet. Dette er spesielt lett å glemme når du objektet er et argument i en funksjon. \n",
    "\n",
    "#### Eksempel 28:"
   ]
  },
  {
   "cell_type": "code",
   "execution_count": 423,
   "id": "b80c3648-3000-4003-85d8-9b6aea38840d",
   "metadata": {},
   "outputs": [
    {
     "name": "stdout",
     "output_type": "stream",
     "text": [
      "[1, 2, 3, 4]\n",
      "['hei', 2, 3, 4]\n"
     ]
    }
   ],
   "source": [
    "a = [1, 2, 3, 4]\n",
    "b = list(a)\n",
    "b[0] = \"hei\"\n",
    "\n",
    "print(a)\n",
    "print(b)"
   ]
  },
  {
   "cell_type": "code",
   "execution_count": null,
   "id": "55263933-1009-4a77-8c3d-951ed8a6710b",
   "metadata": {},
   "outputs": [],
   "source": [
    "b = a\n",
    "b[0] = \"endring\"\n",
    "print(a)\n",
    "print(b)"
   ]
  },
  {
   "cell_type": "markdown",
   "id": "5b152edb-d8cf-4ab1-a9a5-d6267ac9d6ce",
   "metadata": {},
   "source": [
    "Vi kan unngå uønsket endring ved å lage en kopi ved bruk av `list`\n",
    "#### Eksempel 29:"
   ]
  },
  {
   "cell_type": "code",
   "execution_count": null,
   "id": "085b8a68-f06c-48f2-800f-018aa4417eb2",
   "metadata": {},
   "outputs": [],
   "source": [
    "a = [1, 2, 3, 4]\n",
    "b = list(a)\n",
    "b[0] = \"endring\"\n",
    "print(a)\n",
    "print(b)"
   ]
  },
  {
   "cell_type": "markdown",
   "id": "edeefcc5-bbf7-462d-891d-5f14f00255e6",
   "metadata": {},
   "source": [
    "# Numpy"
   ]
  },
  {
   "cell_type": "markdown",
   "id": "b7cb9eb7-2cbd-4aaa-848c-74cbe42beeb4",
   "metadata": {},
   "source": [
    "Numpy er en pakke som kan gjøre matematiske beregninger på store datasett svært effektivt. Vi starter med å importere pakken, og konvertere listen vi har brukt til en numpy-matrise kalt `ndarray`. En *matrise* er en liste der alle rader har like mangee elementer, og det er jo tilfelle med vår `stocks`-liste.\n",
    "\n",
    "Vi starter med å definere en liste av liste med informasjon om aksjene:\n",
    "\n",
    "#### Eksempel 13:"
   ]
  },
  {
   "cell_type": "code",
   "execution_count": 424,
   "id": "e84e35c4-739b-4e8b-8956-a0c04600fbb8",
   "metadata": {},
   "outputs": [
    {
     "data": {
      "text/plain": [
       "[['Equinor',\n",
       "  'EQNR',\n",
       "  167.554919090282,\n",
       "  376883380048.5,\n",
       "  6.14609823076753,\n",
       "  0.617893838660362],\n",
       " ['DNB', 'DNB', 164, 259169427140, 11.1121822724349, 0.914999939276725],\n",
       " ['Telenor',\n",
       "  'TEL',\n",
       "  148.737572948101,\n",
       "  227115017138.4,\n",
       "  13.0211568133471,\n",
       "  0.715300723576896],\n",
       " ['Marine Harvest',\n",
       "  'MHG',\n",
       "  225.589705235372,\n",
       "  118004750966.2,\n",
       "  21.6878893009616,\n",
       "  0.440427599611273],\n",
       " ['Aker BP',\n",
       "  'AKERBP',\n",
       "  272.499264741749,\n",
       "  103712690592,\n",
       "  26.7636558040214,\n",
       "  0.722568840028356],\n",
       " ['Yara International',\n",
       "  'YAR',\n",
       "  333.328922090651,\n",
       "  99481443032.4,\n",
       "  86.741957363663,\n",
       "  0.465057636887608],\n",
       " ['Gjensidige Forsikring',\n",
       "  'GJF',\n",
       "  172.830508474576,\n",
       "  92125000000,\n",
       "  24.9404407385348,\n",
       "  0.847890127134592],\n",
       " ['Orkla',\n",
       "  'ORK',\n",
       "  86.5857852597003,\n",
       "  89087299091.2,\n",
       "  26.5615083754323,\n",
       "  0.350968405416214],\n",
       " ['Norsk Hydro',\n",
       "  'NHY',\n",
       "  31.4389402413895,\n",
       "  67532103728.64,\n",
       "  15.6215830970715,\n",
       "  0.439195576287418],\n",
       " ['SalMar', 'SALM', 449.3, 50905689550.7, 14.222545257898, 0.396134627028104],\n",
       " ['Tomra Systems',\n",
       "  'TOM',\n",
       "  276.409619134278,\n",
       "  41208789715.2,\n",
       "  52.8996016883184,\n",
       "  0.454299114121939],\n",
       " ['Aker',\n",
       "  'AKER',\n",
       "  514.200494811093,\n",
       "  40393931997,\n",
       "  43.4343354806452,\n",
       "  0.548092886866901]]"
      ]
     },
     "execution_count": 424,
     "metadata": {},
     "output_type": "execute_result"
    }
   ],
   "source": [
    "stocks=[\n",
    "['Equinor', 'EQNR', 167.554919090282, 376883380048.5, 6.14609823076753, 0.617893838660362] , \n",
    "['DNB', 'DNB', 164, 259169427140, 11.1121822724349, 0.914999939276725] , \n",
    "['Telenor', 'TEL', 148.737572948101, 227115017138.4, 13.0211568133471, 0.715300723576896] , \n",
    "['Marine Harvest', 'MHG', 225.589705235372, 118004750966.2, 21.6878893009616, 0.440427599611273] , \n",
    "['Aker BP', 'AKERBP', 272.499264741749, 103712690592, 26.7636558040214, 0.722568840028356] , \n",
    "['Yara International', 'YAR', 333.328922090651, 99481443032.4, 86.741957363663, 0.465057636887608] , \n",
    "['Gjensidige Forsikring', 'GJF', 172.830508474576, 92125000000, 24.9404407385348, 0.847890127134592] , \n",
    "['Orkla', 'ORK', 86.5857852597003, 89087299091.2, 26.5615083754323, 0.350968405416214] , \n",
    "['Norsk Hydro', 'NHY', 31.4389402413895, 67532103728.64, 15.6215830970715, 0.439195576287418] , \n",
    "['SalMar', 'SALM', 449.3, 50905689550.7, 14.222545257898, 0.396134627028104] , \n",
    "['Tomra Systems', 'TOM', 276.409619134278, 41208789715.2, 52.8996016883184, 0.454299114121939] , \n",
    "['Aker', 'AKER', 514.200494811093, 40393931997, 43.4343354806452, 0.548092886866901],  \n",
    "]\n",
    "stocks"
   ]
  },
  {
   "cell_type": "markdown",
   "id": "358a5240-b9db-41e8-bcdb-92c675d4a77f",
   "metadata": {},
   "source": [
    "Som du ser, så består listen av tolv rader og fire kolonner. Dette er altså en 12x6-matrise. Den kan enkelt konverteres til en numpy-matrise med funksjonen `np.array()` slik som her:\n",
    "\n",
    "#### Eksempel 30:"
   ]
  },
  {
   "cell_type": "code",
   "execution_count": 425,
   "id": "74275679-979c-4d8c-bdcb-d793fb288215",
   "metadata": {
    "scrolled": true
   },
   "outputs": [
    {
     "data": {
      "text/plain": [
       "array([['Equinor', 'EQNR', '167.554919090282', '376883380048.5',\n",
       "        '6.14609823076753', '0.617893838660362'],\n",
       "       ['DNB', 'DNB', '164', '259169427140', '11.1121822724349',\n",
       "        '0.914999939276725'],\n",
       "       ['Telenor', 'TEL', '148.737572948101', '227115017138.4',\n",
       "        '13.0211568133471', '0.715300723576896'],\n",
       "       ['Marine Harvest', 'MHG', '225.589705235372', '118004750966.2',\n",
       "        '21.6878893009616', '0.440427599611273'],\n",
       "       ['Aker BP', 'AKERBP', '272.499264741749', '103712690592',\n",
       "        '26.7636558040214', '0.722568840028356'],\n",
       "       ['Yara International', 'YAR', '333.328922090651', '99481443032.4',\n",
       "        '86.741957363663', '0.465057636887608'],\n",
       "       ['Gjensidige Forsikring', 'GJF', '172.830508474576',\n",
       "        '92125000000', '24.9404407385348', '0.847890127134592'],\n",
       "       ['Orkla', 'ORK', '86.5857852597003', '89087299091.2',\n",
       "        '26.5615083754323', '0.350968405416214'],\n",
       "       ['Norsk Hydro', 'NHY', '31.4389402413895', '67532103728.64',\n",
       "        '15.6215830970715', '0.439195576287418'],\n",
       "       ['SalMar', 'SALM', '449.3', '50905689550.7', '14.222545257898',\n",
       "        '0.396134627028104'],\n",
       "       ['Tomra Systems', 'TOM', '276.409619134278', '41208789715.2',\n",
       "        '52.8996016883184', '0.454299114121939'],\n",
       "       ['Aker', 'AKER', '514.200494811093', '40393931997',\n",
       "        '43.4343354806452', '0.548092886866901']], dtype='<U32')"
      ]
     },
     "execution_count": 425,
     "metadata": {},
     "output_type": "execute_result"
    }
   ],
   "source": [
    "import numpy as np\n",
    "stocks_np=np.array(stocks)\n",
    "stocks_np"
   ]
  },
  {
   "cell_type": "markdown",
   "id": "595eb09f-587f-4218-bcfb-450ff07f9c9b",
   "metadata": {},
   "source": [
    "Listen er nå lagret som en numpy 12x6-matrise i objektet `stocks_np`. Vi kan imidlertid ikke utføre noen matematiske beregninger slik denne matrisen står, fordi alle tall er i tekstformat. Som vi har sett tidligere går det bare an å regne med `float`, `int` og `bool`. At det er tekst ser vi ved at det er enkle anførselstegn `'` rundt alle elementene. \n",
    "\n",
    "Heldigvis er det veldig enkelt å hente ut informasjon fra numpy-matriser, fordi mulighetene til å skjære utsnitt er langt større enn for vanlige lister. Numpy-lister kan nemlig skjæres i flere dimensjoner. \n",
    "\n",
    "I motsetning til vanlige lister, kan vi for eksempel velge ut kolonner. I en liste av lister velger du, som vi har sett, rad 2 og kolonne 0 med `stocks[2][0]`. Med numpy-matriser separerer du de to indeksene med et komma, `stocks[2,0]`.\n",
    "\n",
    "Men enda viktigere, du kan velge alle elementer ved å sette inn kolon `:` i stedet for tall. Dermed kan du velge hele kolonne 0 med `stocks_np[:,0]`.\n",
    "\n",
    "Her er vi mest interessert i de to siste kolonnene. Det er disse som inneholder tall. For å plukke ut disse velger vi alle radene (`:`) og alle kolonnene fra og med kolonne 2 (`2:`). Da får vi\n",
    "\n",
    "#### Eksempel 31:"
   ]
  },
  {
   "cell_type": "code",
   "execution_count": 437,
   "id": "f6f5eea0-382f-4890-beeb-66b36aed5f9c",
   "metadata": {},
   "outputs": [
    {
     "data": {
      "text/plain": [
       "array([['DNB', 'DNB', '164', '259169427140', '11.1121822724349',\n",
       "        '0.914999939276725'],\n",
       "       ['Telenor', 'TEL', '148.737572948101', '227115017138.4',\n",
       "        '13.0211568133471', '0.715300723576896'],\n",
       "       ['Marine Harvest', 'MHG', '225.589705235372', '118004750966.2',\n",
       "        '21.6878893009616', '0.440427599611273'],\n",
       "       ['Aker BP', 'AKERBP', '272.499264741749', '103712690592',\n",
       "        '26.7636558040214', '0.722568840028356'],\n",
       "       ['Yara International', 'YAR', '333.328922090651', '99481443032.4',\n",
       "        '86.741957363663', '0.465057636887608'],\n",
       "       ['Gjensidige Forsikring', 'GJF', '172.830508474576',\n",
       "        '92125000000', '24.9404407385348', '0.847890127134592'],\n",
       "       ['Orkla', 'ORK', '86.5857852597003', '89087299091.2',\n",
       "        '26.5615083754323', '0.350968405416214'],\n",
       "       ['Norsk Hydro', 'NHY', '31.4389402413895', '67532103728.64',\n",
       "        '15.6215830970715', '0.439195576287418'],\n",
       "       ['SalMar', 'SALM', '449.3', '50905689550.7', '14.222545257898',\n",
       "        '0.396134627028104'],\n",
       "       ['Tomra Systems', 'TOM', '276.409619134278', '41208789715.2',\n",
       "        '52.8996016883184', '0.454299114121939'],\n",
       "       ['Aker', 'AKER', '514.200494811093', '40393931997',\n",
       "        '43.4343354806452', '0.548092886866901']], dtype='<U32')"
      ]
     },
     "execution_count": 437,
     "metadata": {},
     "output_type": "execute_result"
    }
   ],
   "source": [
    "stocks_np[1:,:]"
   ]
  },
  {
   "cell_type": "markdown",
   "id": "1af363cf-f0c1-4206-9b55-32f5279a478c",
   "metadata": {},
   "source": [
    "Sist i matrisen over, står det `dtype='<U21'`. Det betyr at dette er tekstrenger på 21 eller færre tegn. Vi må imidlertid ha dette over i tallformat for å kunne jobbe med det. Det gjør vi slik:\n",
    "\n",
    "#### Eksempel 32:"
   ]
  },
  {
   "cell_type": "code",
   "execution_count": 448,
   "id": "63ce3bac-72eb-41b4-bc8f-3a3f6ba59ccc",
   "metadata": {},
   "outputs": [
    {
     "name": "stdout",
     "output_type": "stream",
     "text": [
      "[1, 2, 3, 4, 5]\n",
      "5\n"
     ]
    }
   ],
   "source": [
    "stocks_numbers=np.array(stocks_np[:,-2:],dtype=float)\n",
    "stocks_numbers\n",
    "\n",
    "a = [1, 2, 3, 4, 5]\n",
    "print(a)\n",
    "print(a[-1])"
   ]
  },
  {
   "cell_type": "markdown",
   "id": "916652c2-3f30-4c34-a701-8bcc84a89fe7",
   "metadata": {},
   "source": [
    "Ser du en sammenheng?\n",
    "\n",
    "Det er også enkelt å regne med Numpy. Vi kan bruke alle de vanlige regneartene med numpy-matriser:"
   ]
  },
  {
   "cell_type": "code",
   "execution_count": null,
   "id": "7fbbd7eb-8ea9-47d7-a3b8-35b12c872bb0",
   "metadata": {
    "tags": []
   },
   "outputs": [],
   "source": [
    "a=np.array([1,5,6,3])\n",
    "b=np.array([23,15,2,10])\n",
    "\n",
    "print(a+b)\n",
    "print(a-b)\n",
    "print(a*b)\n",
    "print(a/b)\n",
    "print(a**3)\n",
    "print(a**0.5)#Kvadratroten"
   ]
  },
  {
   "cell_type": "markdown",
   "id": "45df1f89-ae48-4042-9d1f-11132ff79d86",
   "metadata": {},
   "source": [
    "La oss se på forskjellen mellom `array` og `list` når man bruker multiplikasjon\n",
    "#### Eksempel 33"
   ]
  },
  {
   "cell_type": "code",
   "execution_count": 438,
   "id": "1a052e6c-ca15-40fa-939d-356ddcf952f5",
   "metadata": {},
   "outputs": [
    {
     "name": "stdout",
     "output_type": "stream",
     "text": [
      "[1, 2, 3, 4, 5]\n",
      "[1 2 3 4 5]\n"
     ]
    }
   ],
   "source": [
    "a = [1, 2, 3, 4, 5]\n",
    "b = np.array(a)\n",
    "print(a)\n",
    "print(b)"
   ]
  },
  {
   "cell_type": "code",
   "execution_count": 439,
   "id": "eea46649-6435-4dd7-a20f-5b11cba0ac70",
   "metadata": {},
   "outputs": [
    {
     "name": "stdout",
     "output_type": "stream",
     "text": [
      "[1, 2, 3, 4, 5, 1, 2, 3, 4, 5, 1, 2, 3, 4, 5]\n",
      "[ 3  6  9 12 15]\n"
     ]
    }
   ],
   "source": [
    "a_ = a*3\n",
    "b_ = b*3\n",
    "\n",
    "print(a_)\n",
    "print(b_)"
   ]
  },
  {
   "cell_type": "code",
   "execution_count": 442,
   "id": "d44b2d70-c437-4d02-952e-d624e4e19edb",
   "metadata": {},
   "outputs": [
    {
     "data": {
      "text/plain": [
       "5000"
      ]
     },
     "execution_count": 442,
     "metadata": {},
     "output_type": "execute_result"
    }
   ],
   "source": [
    "c = 1000\n",
    "c = c*5\n",
    "c"
   ]
  },
  {
   "cell_type": "markdown",
   "id": "f249c829-fa3e-4374-bca7-528a3bf8be3d",
   "metadata": {
    "tags": []
   },
   "source": [
    "# Oppslag\n",
    "\n",
    "Et oppslag, eller *dictionary* har symbol `dict` i Python. Dette er en datastruktur der hvert element ikke identifiseres med hvor det er plassert, men med et nøkkelord (`key`). Å bruke oppslag i stedet for lister gjør ofte koden mer lesbar. Det finnes to måter å lage oppslag på; enten ved å bruke funksjonen `dict()`:\n",
    "\n",
    "#### Eksempel 34:"
   ]
  },
  {
   "cell_type": "code",
   "execution_count": 443,
   "id": "f7aa5a2b-46d9-4dac-b321-1deee5d9e2ba",
   "metadata": {},
   "outputs": [
    {
     "name": "stdout",
     "output_type": "stream",
     "text": [
      "<class 'dict'>\n",
      "{'gjeldsrate': array([0.61789384, 0.91499994, 0.71530072, 0.4404276 , 0.72256884,\n",
      "       0.46505764, 0.84789013, 0.35096841, 0.43919558, 0.39613463,\n",
      "       0.45429911, 0.54809289]), 'PE': array([ 6.14609823, 11.11218227, 13.02115681, 21.6878893 , 26.7636558 ,\n",
      "       86.74195736, 24.94044074, 26.56150838, 15.6215831 , 14.22254526,\n",
      "       52.89960169, 43.43433548])}\n"
     ]
    }
   ],
   "source": [
    "a=dict()\n",
    "a['gjeldsrate']=stocks_numbers[:,-1]\n",
    "a['PE']=stocks_numbers[:,-2]\n",
    "print(type(a))\n",
    "print(a)"
   ]
  },
  {
   "cell_type": "markdown",
   "id": "168c0820-5563-4df3-8b79-19c678db9d26",
   "metadata": {},
   "source": [
    "Som vi ser, blir dette et objekt av type `dict`. Alternativt kan vi definere elementer inne i en krølleparentes på formen `{nøkkel: objekt}`, slik som dette:"
   ]
  },
  {
   "cell_type": "code",
   "execution_count": null,
   "id": "dd895947-79d6-4849-9983-d9840eb937a4",
   "metadata": {},
   "outputs": [],
   "source": [
    "b={\n",
    "    'gjeldsrate':stocks_numbers[:,-1],\n",
    "    'PE':stocks_numbers[:,-2], \n",
    "  }\n",
    "\n",
    "print(type(b))"
   ]
  },
  {
   "cell_type": "markdown",
   "id": "7bfbc97f-a575-4cc0-99fd-7e78e997b662",
   "metadata": {},
   "source": [
    "Her er det altså to elementer med nøkler `'gjeldsrate'` og `'PE'`, og tilhørende objekter fra `stocks_numbers`. \n",
    "\n",
    "Vi legger merke til at dette også er en objekt av type `dict`. Med oppslag blir det enklere å bruke variablene, siden vi kan referere til dem med navn i stedet for indeks. \n",
    "\n",
    "#### Eksempel 35:"
   ]
  },
  {
   "cell_type": "code",
   "execution_count": null,
   "id": "28712a8d-8d31-4c7d-b5c3-943cadcf5c08",
   "metadata": {
    "scrolled": true
   },
   "outputs": [],
   "source": [
    "plt.ylabel('PE')\n",
    "plt.xlabel('gjeldsrate')\n",
    "plt.scatter(a['gjeldsrate'], a['PE'])"
   ]
  },
  {
   "cell_type": "code",
   "execution_count": null,
   "id": "d6b89ee5-2a38-4cc3-8316-f0ba4233f487",
   "metadata": {},
   "outputs": [],
   "source": []
  },
  {
   "cell_type": "markdown",
   "id": "6949b332-0438-4827-a02e-c9b51ab69bc2",
   "metadata": {},
   "source": [
    "# Oppgaver"
   ]
  },
  {
   "cell_type": "markdown",
   "id": "608d565f-7c7f-4b3d-8670-d2786a3e65f8",
   "metadata": {},
   "source": [
    "1) Lag en funksjon som kaster terning. Bruk `np.random.randint()`\n"
   ]
  },
  {
   "cell_type": "code",
   "execution_count": 531,
   "id": "17af3fd7-11fa-43c7-88c8-052a0fcbff23",
   "metadata": {},
   "outputs": [
    {
     "data": {
      "text/plain": [
       "array([5, 2, 3, 6, 4, 1, 4, 6, 5, 3])"
      ]
     },
     "execution_count": 531,
     "metadata": {},
     "output_type": "execute_result"
    }
   ],
   "source": [
    "import numpy as np\n",
    "import matplotlib.pyplot as plt\n",
    "\n",
    "def terningkast():\n",
    "    x = np.random.randint(1, 7, 10)\n",
    "    return x\n",
    "terningkast()"
   ]
  },
  {
   "cell_type": "markdown",
   "id": "da77e785-984f-4fe4-a18c-35515f854559",
   "metadata": {},
   "source": [
    "2. plot denne funksjonen med `plt.hist`"
   ]
  },
  {
   "cell_type": "code",
   "execution_count": 576,
   "id": "bfd3c35c-2a55-48b0-9c78-986faca82b19",
   "metadata": {},
   "outputs": [
    {
     "data": {
      "text/plain": [
       "(array([1., 0., 3., 0., 1., 0., 0., 0., 2., 3.]),\n",
       " array([1. , 1.5, 2. , 2.5, 3. , 3.5, 4. , 4.5, 5. , 5.5, 6. ]),\n",
       " <BarContainer object of 10 artists>)"
      ]
     },
     "execution_count": 576,
     "metadata": {},
     "output_type": "execute_result"
    },
    {
     "data": {
      "image/png": "[encoded data removed]",
      "text/plain": [
       "<Figure size 432x288 with 1 Axes>"
      ]
     },
     "metadata": {
      "needs_background": "light"
     },
     "output_type": "display_data"
    }
   ],
   "source": [
    "plt.hist(terningkast())"
   ]
  },
  {
   "cell_type": "markdown",
   "id": "a932ed63-2ba2-40a4-b904-f16573a99a8a",
   "metadata": {},
   "source": [
    "3. Hva er gjennomsnittskastet ditt? bruk `np.mean`"
   ]
  },
  {
   "cell_type": "code",
   "execution_count": 577,
   "id": "4acb33c7-15a2-4c98-9bf2-d659937d21c9",
   "metadata": {},
   "outputs": [
    {
     "data": {
      "text/plain": [
       "3.6"
      ]
     },
     "execution_count": 577,
     "metadata": {},
     "output_type": "execute_result"
    }
   ],
   "source": [
    "np.mean(terningkast())"
   ]
  },
  {
   "cell_type": "markdown",
   "id": "b0f8ab64-abe6-4180-b641-205b0ffe25fd",
   "metadata": {},
   "source": [
    "4. Vis at selv om et objekt (som en liste) har fått et nytt navn, så er det fremdeles samme objektet"
   ]
  },
  {
   "cell_type": "code",
   "execution_count": null,
   "id": "67030070-28df-4f05-9848-9984a8fb97cb",
   "metadata": {},
   "outputs": [],
   "source": []
  },
  {
   "cell_type": "markdown",
   "id": "dc8bfaa0-8137-4ba5-b55b-74ff2ac0edfc",
   "metadata": {
    "tags": []
   },
   "source": [
    "5. Lag en formel for hva bilen din er verdt om T år med d verdiforringelse. Verdien i dag er x"
   ]
  },
  {
   "cell_type": "code",
   "execution_count": 579,
   "id": "caabaf0e-098c-4a03-8f92-e391dd4d3b76",
   "metadata": {},
   "outputs": [
    {
     "data": {
      "text/plain": [
       "10737.418240000006"
      ]
     },
     "execution_count": 579,
     "metadata": {},
     "output_type": "execute_result"
    }
   ],
   "source": [
    "def depresiering(x, d, T):\n",
    "    return x*(1-d)**T\n",
    "\n",
    "depresiering(100000, 0.2, 10)"
   ]
  },
  {
   "cell_type": "markdown",
   "id": "16145659-f1bc-4491-9ad9-f7a7d8dd648f",
   "metadata": {},
   "source": [
    "6. Lag en formel som viser hva bilen din er verdt, for hvert år over T år"
   ]
  },
  {
   "cell_type": "code",
   "execution_count": 581,
   "id": "18cbde23-bec8-49cf-b236-0964eceb676b",
   "metadata": {},
   "outputs": [
    {
     "data": {
      "text/plain": [
       "array([100000.     ,  80000.     ,  64000.     ,  51200.     ,\n",
       "        40960.     ,  32768.     ,  26214.4    ,  20971.52   ,\n",
       "        16777.216  ,  13421.7728 ,  10737.41824])"
      ]
     },
     "execution_count": 581,
     "metadata": {},
     "output_type": "execute_result"
    }
   ],
   "source": [
    "def depreciation2(x, d, T):\n",
    "    return x*(1-d)**np.arange(0, T+1, 1)\n",
    "depreciation2(100000, 0.2, 10)"
   ]
  },
  {
   "cell_type": "markdown",
   "id": "5918175f-6ed0-4f3c-989b-1600771e78b9",
   "metadata": {},
   "source": [
    "7. Plot denne med 5, 10 og 20 prosent verdiforringelse over 10 år"
   ]
  },
  {
   "cell_type": "code",
   "execution_count": 582,
   "id": "db614a34-d543-4c30-8cc3-600724e79747",
   "metadata": {},
   "outputs": [
    {
     "data": {
      "image/png": "[encoded data removed]",
      "text/plain": [
       "<Figure size 432x288 with 1 Axes>"
      ]
     },
     "metadata": {
      "needs_background": "light"
     },
     "output_type": "display_data"
    }
   ],
   "source": [
    "fig, ax = plt.subplots()\n",
    "x = np.arange(0, 11, 1)\n",
    "ax = plt.plot(x, depreciation2(100000, 0.05, 10))\n",
    "ax = plt.plot(x, depreciation2(100000, 0.1, 10))\n",
    "ax = plt.plot(x, depreciation2(100000, 0.2, 10))"
   ]
  },
  {
   "cell_type": "markdown",
   "id": "f9fdc5c4-756f-4d3d-aacf-628d4b589440",
   "metadata": {},
   "source": [
    "8. Lag 3 lister med 3 elementer. En av listene skal være strenger og resten skal ha tall mellom 0 og 10"
   ]
  },
  {
   "cell_type": "code",
   "execution_count": null,
   "id": "ef6b8f92-dd4c-48d3-aec7-84d21edd2891",
   "metadata": {},
   "outputs": [],
   "source": [
    "a = [1, 2, 3]\n",
    "b = [8, 4, 2]\n",
    "c = [\"to\", \"tre\", \"fem\"]\n",
    "d = [a, b, c]\n",
    "d\n",
    "\n",
    "\n",
    "\n"
   ]
  },
  {
   "cell_type": "markdown",
   "id": "9b33ab66-3988-4cce-86b5-78e299a17c57",
   "metadata": {},
   "source": [
    "9. Konverter denne til en matrise "
   ]
  },
  {
   "cell_type": "code",
   "execution_count": null,
   "id": "d64515d5-e8f3-44ab-a62d-a839daa487a3",
   "metadata": {},
   "outputs": [],
   "source": [
    "e = np.array(d)\n",
    "print(e)\n",
    "print(e[:-1, :])"
   ]
  },
  {
   "cell_type": "markdown",
   "id": "d4742f2e-072a-44ae-b054-0153bf8fe2ea",
   "metadata": {},
   "source": [
    "10. Trekk ut tallene inn i en egen matrise og kall denne \"numbers\""
   ]
  },
  {
   "cell_type": "code",
   "execution_count": null,
   "id": "d04b76be-e58d-4d44-9ba8-d5d66de030d3",
   "metadata": {},
   "outputs": [],
   "source": [
    "numbers = np.array(e[:-1, :], dtype=float)\n",
    "numbers"
   ]
  },
  {
   "cell_type": "markdown",
   "id": "0627cee0-e0d2-41bc-a099-2eb755522ce4",
   "metadata": {},
   "source": [
    "11. Lage en dict på hver av kolonnene i numbers"
   ]
  },
  {
   "cell_type": "code",
   "execution_count": null,
   "id": "f7579a98-c707-4e20-bdc8-e68e825ac30c",
   "metadata": {},
   "outputs": [],
   "source": [
    "y = {\n",
    "    \"nr1\": numbers[0, :],\n",
    "    \"nr2\": numbers[1, :]}"
   ]
  },
  {
   "cell_type": "code",
   "execution_count": null,
   "id": "f5380d09-727f-42ac-9fe1-c9e2157e6f91",
   "metadata": {},
   "outputs": [],
   "source": []
  },
  {
   "cell_type": "markdown",
   "id": "e5bf3449-94f5-4102-a29b-cc6f3a43e17b",
   "metadata": {},
   "source": [
    "12. Plot disse tallene ved hjelp av dict"
   ]
  },
  {
   "cell_type": "code",
   "execution_count": null,
   "id": "c389347b-bf5a-417e-b5a9-34b2313a9b34",
   "metadata": {},
   "outputs": [],
   "source": [
    "plt.plot(y[\"nr1\"], y[\"nr2\"])"
   ]
  }
 ],
 "metadata": {
  "kernelspec": {
   "display_name": "Python 3 (ipykernel)",
   "language": "python",
   "name": "python3"
  },
  "language_info": {
   "codemirror_mode": {
    "name": "ipython",
    "version": 3
   },
   "file_extension": ".py",
   "mimetype": "text/x-python",
   "name": "python",
   "nbconvert_exporter": "python",
   "pygments_lexer": "ipython3",
   "version": "3.9.13"
  }
 },
 "nbformat": 4,
 "nbformat_minor": 5
}

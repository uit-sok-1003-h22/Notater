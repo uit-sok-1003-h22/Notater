{
 "cells": [
  {
   "cell_type": "markdown",
   "id": "94c080bc-1d8f-4f48-9f8d-ecdc08128039",
   "metadata": {},
   "source": [
    "# Løsningsforslag for oppgavene fra forelesning 6 og 7\n",
    "Her finner dere et grovt løsningsforslag for oppgavene fra forelesning 6 og 7"
   ]
  },
  {
   "cell_type": "markdown",
   "id": "126a90bd-ca3d-4d43-90e9-36e119766027",
   "metadata": {},
   "source": [
    "# Oppgaver, forelesning 6:\n",
    "For å svare på disse oppgavene må man laste inn dataene fra Titlon først."
   ]
  },
  {
   "cell_type": "markdown",
   "id": "174fd627-c4de-4644-b75a-41656f8ab4c5",
   "metadata": {},
   "source": [
    "## Titlon"
   ]
  },
  {
   "cell_type": "markdown",
   "id": "403f013a-a1cb-46ff-a5a4-b9170e16039b",
   "metadata": {
    "tags": []
   },
   "source": [
    "I eksemplet over leser Pandas dataene fra en fiil, men Pandas kan også hente data direkte fra en database på nettet. Vi skal først se hvordan vi kan hente data fra `titlon.uit.no`. Dette er en database som inneholder informasjon om aksjer, derviater og obligasjoner handlet på [Oslo Børs Euronext](https://www.euronext.com/en/markets/oslo).  \n",
    "\n",
    "Det første vi må gjøre er å hente en pakke som kan kommunisere med serveren. Vi skal bruke pymysql. Den er i utgangspunktet ikke installert her på uit's jupyter-server, så det må vi gjøre selv. Det gjør du slik:\n",
    "\n",
    "Åpne konsollen og skriv `pip install pymysql`\n",
    "\n",
    "For å hente data gjør du følgende:\n",
    "\n",
    "På [https://titlon.uit.no/](https://titlon.uit.no/) ligger det børsinformasjon fra Oslo Børs. For å hente data fra Titlon gjør du følgende:\n",
    "\n",
    "1. gå inn på [https://titlon.uit.no/](https://titlon.uit.no/) \n",
    "2. trykk på \"Python\"\n",
    "3. logg inn (om du får en feilmelding etter innlogging følger du bare lenken over på nytt)\n",
    "4. Kopierer teksten i tekstboksen\n",
    "5. lim den inn under\n",
    "\n",
    "\n"
   ]
  },
  {
   "cell_type": "code",
   "execution_count": null,
   "id": "fbb51910-67d9-4a32-9f5d-d047bfb8a13a",
   "metadata": {},
   "outputs": [],
   "source": [
    "#Hent ut to andre selskap fra titlon, og plott dem med scatter()-funksjonen for å se om det \n",
    "#er en sammenheng mellom avkastningene.\n",
    "import pandas as pd\n",
    "#you may substitute pymysql for pymssql in the following TWO sentences if you prefer the MS SQL client:\n",
    "import pymysql\n",
    "con = pymysql.connect(host='titlon.uit.no', \n",
    "                               user=\"oaa011@uit.no\", \n",
    "                               password=\"z%9K%Rbrw@1%6fYwBvN1F\", \n",
    "                               database='OSE')  \n",
    "crsr=con.cursor()\n",
    "crsr.execute(\"SELECT * FROM equity WHERE Name='Equinor' ORDER BY Date\")\n",
    "r=crsr.fetchall()\n",
    "df=pd.DataFrame(list(r), columns=[i[0] for i in crsr.description])\n",
    "df\n",
    "\n",
    "\t\n",
    "\n",
    "\t"
   ]
  },
  {
   "cell_type": "markdown",
   "id": "28d114dd-a8c2-437b-b342-715b7fb06555",
   "metadata": {},
   "source": [
    "## Oppgavene"
   ]
  },
  {
   "cell_type": "markdown",
   "id": "446924dd-b2df-4112-9633-d45132a9adfd",
   "metadata": {},
   "source": [
    "1. Hent ut to andre selskap fra titlon, og plott dem med `scatter()`-funksjonen for å se om det er en sammenheng mellom avkastningene.  \n",
    "\n",
    "2. Én av `elif`-setningene i Eksempel 4 vil aldri bli tilfredsstilt, uansett hva du setter som `animal`. Hvorfor?\n",
    "\n",
    "3. I eksempel 6, hva skjer om du fjerner `or edu>10` fra koden? Forklar.\n",
    "\n",
    "4. Hent data for et annet selskap (valgfritt) fra titlon.uit.no, og velg to andre variabler enn i Eksempel 17, og plott dem mot hverandre.\n",
    "\n",
    "5. Hent en tabell om strømpris i eurostat, og lag en tilsvarende graf som i Eksempel 32 for den. Gjør slik:\n",
    "    1. Sjekk hvilke tabeller som er tilgjengelig med `toc[['Electricity' in i for i in toc['title']]]` og finn koden i feltet 'code' til tabellen \"7143\tElectricity prices for non-household consumers...\". \n",
    "    2. Hent tabellen som har denne koden\n",
    "    3. Gjør følgende filtrering:\n",
    "    ```\n",
    "    df=df[(df['tax']=='X_TAX')*\n",
    "   (df['consom']=='4162906')*\n",
    "   (df['currency']=='EUR')*\n",
    "   (df!=0).all(axis=1)]\n",
    "    ```\n",
    "    4. Lag graf som i Eksempel 32. Velg selv hvilke land dy synes er viktige å utheve. "
   ]
  },
  {
   "cell_type": "markdown",
   "id": "57915b20-ac0b-436c-a776-6fcad6b04a67",
   "metadata": {},
   "source": [
    "<b>Oppg 1:</b> Hent ut to andre selskap fra titlon, og plott dem med `scatter()`-funksjonen for å se om det er en sammenheng mellom avkastningene. "
   ]
  },
  {
   "cell_type": "code",
   "execution_count": null,
   "id": "6b499ce1-d165-4723-99a5-8e47596b8ee4",
   "metadata": {},
   "outputs": [],
   "source": [
    "#ser først hvilke selskaper som finnes\n",
    "sql=\"SELECT distinct Name,ISIN,SecurityId,CompanyId FROM equity WHERE Year(Date)>2015 ORDER BY `Name`\"\n",
    "companies=pd.read_sql_query(sql, con)\n",
    "\n",
    "list(companies.values[:,0])"
   ]
  },
  {
   "cell_type": "code",
   "execution_count": null,
   "id": "9a5268f0-0346-40d8-8515-691e9d4905fc",
   "metadata": {},
   "outputs": [],
   "source": [
    "#vi velger scatec og sbanken\n",
    "sql=(\"SELECT distinct Name,date, lnDeltaP FROM equity \"\n",
    "    \"WHERE (Name='Sbanken' OR Name='Scatec') \"\n",
    "    \"AND `Date`>'2000-01-01'\"\n",
    "    \"ORDER BY `Date`\")\n",
    "df1 = pd.read_sql_query(sql, con)\n",
    "df1"
   ]
  },
  {
   "cell_type": "code",
   "execution_count": null,
   "id": "2ea99a5a-eab5-44b4-8c2d-3ffd469d3d5a",
   "metadata": {},
   "outputs": [],
   "source": [
    "#her kunne vi brukt seaborn siden det er på lengdeformat hvis vi ønsker å sammenligne over tid\n",
    "import seaborn as sns\n",
    "sns.scatterplot(data=df1, x=\"date\", y=\"lnDeltaP\", hue=\"Name\")"
   ]
  },
  {
   "cell_type": "code",
   "execution_count": null,
   "id": "dbadeddc-f1a6-40fa-a2da-61cbf2973eb6",
   "metadata": {},
   "outputs": [],
   "source": [
    "#vi velger å endre til \"wide\" format ved bruk av pivot og fjerner så nan-verdiene\n",
    "df1 = df1.pivot(index=\"date\", columns=\"Name\", values='lnDeltaP')\n",
    "df1 = df1.dropna()\n"
   ]
  },
  {
   "cell_type": "code",
   "execution_count": null,
   "id": "e015c29c-807a-4720-9a69-52a80d66348e",
   "metadata": {},
   "outputs": [],
   "source": [
    "df1"
   ]
  },
  {
   "cell_type": "code",
   "execution_count": null,
   "id": "cfe278d4-d9db-4669-9430-99d01e23d35c",
   "metadata": {},
   "outputs": [],
   "source": [
    "import matplotlib.pyplot as plt\n",
    "# plotter selskapene mot hverandre, og ser at de er relativt like i avkastning\n",
    "df1.plot.scatter(\"Sbanken\", \"Scatec\")\n",
    "plt.vlines(0, -0.15, 0.15, color=\"r\")\n",
    "plt.hlines(0, -0.15, 0.15, color=\"r\")"
   ]
  },
  {
   "cell_type": "code",
   "execution_count": null,
   "id": "0d2895e2-5aa6-4266-8dbd-f7bcdb19dbf2",
   "metadata": {},
   "outputs": [],
   "source": [
    "#Kunne brukt plot direkte hvis vi ønsket å se på dette over tid. Alpha satt til 0,8 for å kunne se overlapp\n",
    "df1.plot(alpha=0.8)"
   ]
  },
  {
   "cell_type": "markdown",
   "id": "3487412f-74de-4aae-b75e-c71d808eaeb8",
   "metadata": {},
   "source": [
    "<b> Oppg 2: </b> Én av `elif`-setningene i Eksempel 4 vil aldri bli tilfredsstilt, uansett hva du setter som `animal`. Hvorfor?\n"
   ]
  },
  {
   "cell_type": "code",
   "execution_count": null,
   "id": "79ba80c5-0cde-4773-b959-5280e319d131",
   "metadata": {
    "tags": []
   },
   "outputs": [],
   "source": [
    "animal='lion'\n",
    "\n",
    "cats=['lion','tiger','puma','lynx']\n",
    "mammals=['human','bear','cat','whale','mouse']+cats\n",
    "\n",
    "if (animal in cats) & (animal in mammals):\n",
    "    print(f\"{animal} is a cat and a mammal\")\n",
    "elif (not animal in cats) & (animal in mammals): \n",
    "    print(f\"{animal} is not a cat, but it is a mammal\")\n",
    "elif (animal in cats) and (not animal in mammals):#DENNE. Det er fordi alle cats er mammals\n",
    "    print(f\"{animal} is a cat, but not a mammal\")   \n",
    "else:\n",
    "    print(f\"{animal} is neither a cat nor a mammal\")"
   ]
  },
  {
   "cell_type": "markdown",
   "id": "3a1de75b-5652-4353-a2b3-911aca89a5b1",
   "metadata": {},
   "source": [
    "<b> Oppg 3 </b> I eksempel 6, hva skjer om du fjerner `or edu>10` fra koden? Forklar.\n",
    "\n"
   ]
  },
  {
   "cell_type": "code",
   "execution_count": null,
   "id": "0f67ce59-6980-42ba-9dfa-87bfe9844fec",
   "metadata": {},
   "outputs": [],
   "source": [
    "# Vi vil få færre land. Det er fordi vi tidligere hadde med land som ikke oppfylte første kriterie, men andre "
   ]
  },
  {
   "cell_type": "markdown",
   "id": "002f6ac7-a70e-4f94-8015-54025b298dc2",
   "metadata": {},
   "source": [
    "<b> Oppg 4 </b> Hent data for et annet selskap (valgfritt) fra titlon.uit.no, og velg to andre variabler enn i Eksempel 17, og plott dem mot hverandre."
   ]
  },
  {
   "cell_type": "code",
   "execution_count": null,
   "id": "8ce1adea-0521-467d-bd7c-792a0ea2bddc",
   "metadata": {},
   "outputs": [],
   "source": [
    "#kopierer inn koden fra Titlon under, men bytter ut Equinor med Scatec\n",
    "\n",
    "import pandas as pd\n",
    "#you may substitute pymysql for pymssql in the following TWO sentences if you prefer the MS SQL client:\n",
    "import pymysql\n",
    "con = pymysql.connect(host='titlon.uit.no', \n",
    "                               user=\"oaa011@uit.no\", \n",
    "                               password=\"sYBdtQF6G1UUk9K2ufBXc\", \n",
    "                               database='OSE')  \n",
    "crsr=con.cursor()\n",
    "crsr.execute(\"SELECT * FROM equity WHERE Name='Scatec' ORDER BY Date\")\n",
    "r=crsr.fetchall()\n",
    "df=pd.DataFrame(list(r), columns=[i[0] for i in crsr.description])\n",
    "df\n",
    "\n",
    "\t"
   ]
  },
  {
   "cell_type": "code",
   "execution_count": null,
   "id": "f51626b7-9de0-48ea-850b-094be82009de",
   "metadata": {},
   "outputs": [],
   "source": [
    "#ser på kolonnene ved hjelp av \"columns\"\n",
    "df.columns"
   ]
  },
  {
   "cell_type": "code",
   "execution_count": null,
   "id": "8abc6fa2-ca11-4125-ad67-a5e6bf6d2e9c",
   "metadata": {},
   "outputs": [],
   "source": [
    "#velger ut variablene vi skal se på og setter index til date\n",
    "df1 = df[[\"Date\", \"NumberOfShares\", \"UnofficialVolume\"]]\n",
    "df1 = df1.set_index(\"Date\")"
   ]
  },
  {
   "cell_type": "code",
   "execution_count": null,
   "id": "f1cfc093-3e69-4b04-a2d7-0c0f727488aa",
   "metadata": {},
   "outputs": [],
   "source": [
    "df1.plot()\n"
   ]
  },
  {
   "cell_type": "markdown",
   "id": "313b27cc-e16f-4973-b70a-77bc8a2d92b1",
   "metadata": {},
   "source": [
    "\n",
    "\n",
    "5. Hent en tabell om strømpris i eurostat, og lag en tilsvarende graf som i Eksempel 32 for den. Gjør slik:\n",
    "    1. Sjekk hvilke tabeller som er tilgjengelig med `toc[['Electricity' in i for i in toc['title']]]` og finn koden i feltet 'code' til tabellen \"7143\tElectricity prices for non-household consumers...\". \n",
    "    2. Hent tabellen som har denne koden\n",
    "    3. Gjør følgende filtrering:\n",
    "    ```\n",
    "    df=df[(df['tax']=='X_TAX')*\n",
    "   (df['consom']=='4162906')*\n",
    "   (df['currency']=='EUR')*\n",
    "   (df!=0).all(axis=1)]\n",
    "    ```\n",
    "    4. Lag graf som i Eksempel 32. Velg selv hvilke land dy synes er viktige å utheve. "
   ]
  },
  {
   "cell_type": "code",
   "execution_count": null,
   "id": "e0b457e9-6ffe-4e76-83fd-1167794a42f0",
   "metadata": {
    "tags": []
   },
   "outputs": [],
   "source": [
    "import eurostat\n",
    "toc = eurostat.get_toc_df()\n",
    "toc"
   ]
  },
  {
   "cell_type": "code",
   "execution_count": null,
   "id": "85405310-ff1a-4959-afda-a487d3ff8870",
   "metadata": {},
   "outputs": [],
   "source": [
    "#A:skriver om koden for å finne den spesifikke tabellen. Her er koden \"nrg_pc_205\"\n",
    "toc[['Electricity prices for non-household consumers' in i for i in toc['title']]]"
   ]
  },
  {
   "cell_type": "code",
   "execution_count": null,
   "id": "eeeda6e6-f80a-4d69-add4-4493aea5f98d",
   "metadata": {},
   "outputs": [],
   "source": [
    "#B: henter denne tabellen\n",
    "df = eurostat.get_data_df('nrg_pc_205')\n",
    "df"
   ]
  },
  {
   "cell_type": "code",
   "execution_count": null,
   "id": "8d97cf14-bf07-48e5-9dff-be5039f2d3e8",
   "metadata": {},
   "outputs": [],
   "source": [
    "#C: gjør filtreringen\n",
    "df=df[(df['tax']=='X_TAX')*\n",
    "(df['consom']=='4162906')*\n",
    "(df['currency']=='EUR')*\n",
    "(df!=0).all(axis=1)]"
   ]
  },
  {
   "cell_type": "code",
   "execution_count": null,
   "id": "3ef6ce0a-ec49-4987-8589-1ca92fd83440",
   "metadata": {},
   "outputs": [],
   "source": [
    "#dropper nan-verdier \n",
    "df = df.dropna()"
   ]
  },
  {
   "cell_type": "code",
   "execution_count": null,
   "id": "ea463008-b386-4402-8f95-194f5224d587",
   "metadata": {},
   "outputs": [],
   "source": [
    "#velger ut de kolonnene vi ønsker\n",
    "\n",
    "df = df.iloc[:, 5:]"
   ]
  },
  {
   "cell_type": "code",
   "execution_count": null,
   "id": "1de5fec9-e5a3-4018-abd1-2a7198e62bf0",
   "metadata": {},
   "outputs": [],
   "source": [
    "#endrer til navn på første kolonne\n",
    "print(df.columns)\n",
    "df.columns = ['country', '2022S1', '2021S2', '2021S1', '2020S2', '2020S1', '2019S2',\n",
    "       '2019S1', '2018S2', '2018S1', '2017S2', '2017S1', '2016S2', '2016S1',\n",
    "       '2015S2', '2015S1', '2014S2', '2014S1', '2013S2', '2013S1', '2012S2',\n",
    "       '2012S1', '2011S2', '2011S1', '2010S2', '2010S1', '2009S2', '2009S1',\n",
    "       '2008S2', '2008S1', '2007S2', '2007S1']\n",
    "print(df.columns)"
   ]
  },
  {
   "cell_type": "code",
   "execution_count": null,
   "id": "ccbafccc-48e7-4d63-8f1f-c7a7db969f7c",
   "metadata": {},
   "outputs": [],
   "source": [
    "# setter \"country\" til index\n",
    "df = df.set_index(\"country\")"
   ]
  },
  {
   "cell_type": "code",
   "execution_count": null,
   "id": "eaf412a6-f3f1-44c3-b87e-c4c8b9442cfd",
   "metadata": {},
   "outputs": [],
   "source": [
    "#bytter om på rader og akser\n",
    "df = df.transpose()"
   ]
  },
  {
   "cell_type": "code",
   "execution_count": null,
   "id": "8d233433-140d-49f9-886b-2bdd8d836dc7",
   "metadata": {},
   "outputs": [],
   "source": [
    "# sorterer indexen riktig, slik at årstall er stigende\n",
    "df = df.sort_index()"
   ]
  },
  {
   "cell_type": "code",
   "execution_count": null,
   "id": "937544ee-5c4a-48c7-901b-b9f1a76f3210",
   "metadata": {},
   "outputs": [],
   "source": [
    "#D: lager grafen\n",
    "\n",
    "ax=df.plot(alpha=0.3,figsize=(20, 10))\n",
    "ax.legend(loc='upper left',frameon=False,ncol=4)"
   ]
  },
  {
   "cell_type": "code",
   "execution_count": null,
   "id": "bcd720e5-345b-483f-8764-49e1382800ff",
   "metadata": {},
   "outputs": [],
   "source": [
    "\n",
    "def thick_line(symbol,ax):\n",
    "    labels=[i._label for i in ax.lines]  #makes a list of symbols in the order of lines in the axis object\n",
    "    i=labels.index(symbol)               #identifies at which position symbol is located\n",
    "    ax.lines[i].set_linewidth(5)         #sets the line with of the line at position i to 5 \n",
    "    ax.lines[i].set_alpha(1)             #removes transparancy of the line at position i to 5 "
   ]
  },
  {
   "cell_type": "code",
   "execution_count": null,
   "id": "346fac7d-add0-4576-ab8c-accdd3cc2abd",
   "metadata": {},
   "outputs": [],
   "source": [
    "#ser hvilke land vi har\n",
    "df.columns\n"
   ]
  },
  {
   "cell_type": "code",
   "execution_count": null,
   "id": "005392e4-93ca-4ddd-a1a1-886521a36f43",
   "metadata": {},
   "outputs": [],
   "source": [
    "#velger tyskland og finland\n",
    "thick_line('DE',ax)\n",
    "thick_line('FI',ax)\n",
    "ax.legend(loc='upper left',frameon=False,ncol=4)\n",
    "ax.figure"
   ]
  },
  {
   "cell_type": "markdown",
   "id": "96e51b27-0319-4f7e-9873-dbe6190da84f",
   "metadata": {},
   "source": [
    "# Oppgaver, forelesning 7"
   ]
  },
  {
   "cell_type": "markdown",
   "id": "20361ac9-1201-42c5-8dd7-a9e92f09738c",
   "metadata": {},
   "source": [
    "1. Du vil raskt oppdage et problem med koden i Eksempel 8. Aksjekursen kan bli negativ. Dette kan unngås ved å plotte *eksponenenten* av prosessen, i stedet. Dette kan du få til på følgende måte \n",
    "    1. Omdøp `y` i `y+= dy` til `lny`, og husk å gjør det samme øverst \n",
    "    2. Endre startverdien til lny øverst i koden fra 100 til 0.\n",
    "    2. Eksponenten liker ikke store tall som argument, så fjern `40*` fra definisjonen av `dy` inne i while-løkken.\n",
    "    2. definer en ny `y`som settes lik hundre ganger eksponenten til `lny`. Bruk `exp()`-funksjonen til numpy. \n",
    "3. Lag dynamiske aksjeintervall for y-aksen, slik at største aksjekurs alltid er minst ti prosent mer enn den simulerte kursen.\n",
    "4. Lag dynamisk aksjeintervall for x-aksen, slik at når tiden passerer 20, så økes intervallet. La intervallet alltid være minst ti prosent lengre enn den simulerte tiden. \n",
    "2. Kommenter ut (sett `#` foran) hver av de siste linjene i Eksempel ??, én om gangen, og se hva som skjer. "
   ]
  },
  {
   "cell_type": "code",
   "execution_count": null,
   "id": "7dc59113-7872-4b68-b0a2-34736902edbe",
   "metadata": {},
   "outputs": [],
   "source": [
    "import numpy as np\n",
    "import matplotlib.pyplot as plt\n",
    "from matplotlib.patches import Ellipse\n",
    "from IPython.display import display, clear_output\n",
    "x,lny,dy=0,0,0\n",
    "fig, ax = plt.subplots(figsize=(20, 10))\n",
    "\n",
    "\n",
    "ypath=[]\n",
    "xpath=[]\n",
    "\n",
    "while x<25:\n",
    "    x+= 0.1\n",
    "    lny+= dy\n",
    "    dy=(np.random.rand()-0.5)\n",
    "    y = 100*np.exp(lny)\n",
    "\n",
    "\n",
    "    xpath.append(x)\n",
    "    ypath.append(y)\n",
    "    \n",
    "    #placing the plot function inside the loop, ensures that it is plotted every iteration\n",
    "    ax.plot(xpath,ypath,label='YARA')\n",
    "    ax.legend(loc='upper left',frameon=False,fontsize=30)\n",
    "    \n",
    "    #making dot:\n",
    "    c=Ellipse((x, y), 0.25,5, color='r')\n",
    "    ax.add_patch(c)\n",
    "    \n",
    "    #making text:\n",
    "    ax.text(x+0.1,y+3,f'NOK {np.round(y,1)}')\n",
    "    \n",
    "    #jupyter only shows the last statement by default, so we need to add this \n",
    "    #in order to plot at every iteration\n",
    "    display(fig)\n",
    "    \n",
    "    #makes sure the plot and output are ereased each time:\n",
    "    ax.cla()\n",
    "    ax.set_ylim([0,np.max([200, np.max(ypath)*1.1])])\n",
    "    ax.set_xlim([0, np.max([20, np.max(xpath)*1.1])])\n",
    "    clear_output(wait = True) "
   ]
  },
  {
   "cell_type": "code",
   "execution_count": null,
   "id": "dbdda76b-d2d5-4239-ba42-c011a1e3a373",
   "metadata": {},
   "outputs": [],
   "source": []
  }
 ],
 "metadata": {
  "kernelspec": {
   "display_name": "Python 3 (ipykernel)",
   "language": "python",
   "name": "python3"
  },
  "language_info": {
   "codemirror_mode": {
    "name": "ipython",
    "version": 3
   },
   "file_extension": ".py",
   "mimetype": "text/x-python",
   "name": "python",
   "nbconvert_exporter": "python",
   "pygments_lexer": "ipython3",
   "version": "3.9.13"
  }
 },
 "nbformat": 4,
 "nbformat_minor": 5
}

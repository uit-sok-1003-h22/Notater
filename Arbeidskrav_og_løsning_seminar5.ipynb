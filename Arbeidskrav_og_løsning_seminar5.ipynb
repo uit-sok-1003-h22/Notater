{
 "cells": [
  {
   "cell_type": "markdown",
   "id": "67e582f6-ffcc-4e5f-b86f-c20b6d049f24",
   "metadata": {},
   "source": [
    "# Forlag til løsninger på enkeltoppgaver til arbeidskrav 5\n",
    "\n",
    "Til dette arbeidskravet skal dere løse oppgave 15, 16, 17 og 19-22 i \"Læresteg\" i BED-1007. Dere finner oppgavene her: https://uit.instructure.com/courses/26947/files/folder/Seminar%205. Det er to dokument for hver deloppgave; det ene dokumentet viser oppgaveteksten og det andre svaret. På den måten kan dere se om koden gir dere riktig svar<br>  \n",
    "Det finnes som regel mange måter å løse oppgavene på, men her er et forslag for at dere skal få inspirasjon til løsning av arbeidskrav. Dere trenger ikke å løse oppgavene jeg har vist i dette dokumentet  <br> <br>\n",
    "    Selve arbeidskravet skal leveres på github. Dere gjør dette ved å lage et reposetorie på github som dere kaller \"sok_1003_sympy\". Dere gir meg så tilgang til dette ved å legge meg til (ved brukernavn: \"okaars\"). I dette reposetoriet kan dere lagre oppgaven. Dere velger selv om dere vil starte med et blankt dokument eller jobbe i dette dokumentet. Uansett må det fremgå av dokumentet navnet på den som leverer. Dere finner steg-for-steg informasjon om levering av arbeidskrav her: https://uit-sok-1003-h22.github.io/github.html"
   ]
  },
  {
   "cell_type": "code",
   "execution_count": null,
   "id": "2a447154-8399-4e3f-8060-1d7da5e5cc0c",
   "metadata": {},
   "outputs": [],
   "source": [
    "##importerer pakker\n",
    "import sympy as sp\n",
    "from sympy.solvers import solve\n",
    "# har brukt noe dokumentasjon herfra: https://docs.sympy.org/latest/tutorials/intro-tutorial/simplification.html"
   ]
  },
  {
   "cell_type": "markdown",
   "id": "995c7b04-b5ee-435e-b127-c8bdf50ac6e2",
   "metadata": {},
   "source": [
    "### Oppgave 15"
   ]
  },
  {
   "cell_type": "code",
   "execution_count": null,
   "id": "46775adc-6df1-4334-95a0-9f99654ab846",
   "metadata": {},
   "outputs": [],
   "source": [
    "#1a)\n",
    "x, y  = sp.symbols(\"x y\") #definerer som symbol\n",
    "unknown = [x, y] #legger de ukjente inn i en liste\n",
    "eq_a = [\n",
    "    sp.Eq(2*x+4*y,6),\n",
    "    sp.Eq(-2*x+y, 4)\n",
    "] #definerer et sett med ligninger\n",
    "sp.solve(eq_a, unknown) # løser ligningene mhp x y"
   ]
  },
  {
   "cell_type": "code",
   "execution_count": null,
   "id": "b187996f-4657-492c-a262-b9cafd3072ef",
   "metadata": {
    "tags": []
   },
   "outputs": [],
   "source": [
    "#1b) \n",
    "#denne løser vi litt annerledes\n",
    "eq_1 = sp.Eq(2*x-y,-1) #definerer hver ligning hver for seg\n",
    "eq_2 = sp.Eq(x**2+x-y, 1)\n",
    "#definerer ligningssettet\n",
    "sp.solve([eq_1, eq_2],unknown) #løser ligningssettet ved å sette de to ligningene inn i en liste, og løser mhpt de ukjente, som vi allerede definerte i 1a"
   ]
  },
  {
   "cell_type": "markdown",
   "id": "de76834f-9c7a-4e7e-994b-2b3ffc50e038",
   "metadata": {},
   "source": [
    "#### Oppgave 16"
   ]
  },
  {
   "cell_type": "code",
   "execution_count": null,
   "id": "557c689d-794a-4553-acf3-f88c2c0d1a2c",
   "metadata": {},
   "outputs": [],
   "source": [
    "#1a\n",
    "eq_16_1 = [sp.Eq(4*x+2*y, 12), \n",
    "          sp.Eq(6*x-2*y, 8)] #definerer en liste med ligningene\n",
    "sp.solve(eq_16_1, [x, y]) #løser mhp x og y direkte. Tidligere var de definert som \"unknown\"\n"
   ]
  },
  {
   "cell_type": "markdown",
   "id": "25d61f8a-5f67-4845-b7bf-4a561ecb252a",
   "metadata": {},
   "source": [
    "#### Oppgave 17"
   ]
  },
  {
   "cell_type": "code",
   "execution_count": null,
   "id": "c576b789-fff1-44b4-9c27-4019288fc9cc",
   "metadata": {},
   "outputs": [],
   "source": [
    "#1a\n",
    "equations = [sp.Eq(x*y**2-x, 0),\n",
    "             sp.Eq(x+y**2, 16)]\n",
    "sp.solve(equations, [x, y]) #her får vi en liste med tuples, det vil si ulike kombinasjoner av  x og y som løser ligningene"
   ]
  },
  {
   "cell_type": "markdown",
   "id": "0f8dad4d-2074-4a0c-aa37-d5561d49d82e",
   "metadata": {},
   "source": [
    "#### Oppgave 19"
   ]
  },
  {
   "cell_type": "code",
   "execution_count": null,
   "id": "69e0c785-d61f-4770-bc4d-01f4ba8ea273",
   "metadata": {},
   "outputs": [],
   "source": [
    "#1d versjon1\n",
    "def d19(x):\n",
    "    return 2*x**3 + sp.sqrt(36) #definerer den som en funksjon. Bruker sqrt for å skrive inn rot\n",
    "sp.diff(d19(x), x) #deriverer mhp x"
   ]
  },
  {
   "cell_type": "code",
   "execution_count": null,
   "id": "74781846-8928-47cc-84f2-a4d0e8d069a1",
   "metadata": {},
   "outputs": [],
   "source": [
    "#1d versjon 2\n",
    "sp.diff(2*x**3 + sp.sqrt(36), x) #vi kunne også srkevet ut ligningen direkte i"
   ]
  },
  {
   "cell_type": "markdown",
   "id": "1d8250a8-e5b0-411e-a5e6-54196472fee0",
   "metadata": {},
   "source": [
    "#### Oppgave 20"
   ]
  },
  {
   "cell_type": "code",
   "execution_count": null,
   "id": "daa27745-aca7-4295-8da3-1e7901eb8454",
   "metadata": {},
   "outputs": [],
   "source": [
    "#1a\n",
    "x = sp.symbols(\"x\")\n",
    "sp.root(x**12, 3) # slik det står i oppgaven. Her bruker vi \"root\" fordi vi må sette roten til 3\n"
   ]
  },
  {
   "cell_type": "code",
   "execution_count": null,
   "id": "f27f2b52-4acc-41f9-b874-bce60c6d467b",
   "metadata": {},
   "outputs": [],
   "source": [
    "#1a fortsettelse\n",
    "x = sp.symbols(\"x\", positive=True) #sympy gjør forenklingen for oss, men kun hvis den vet at det ikke finnes andre løsninger. Hvis vi spesifiserer at det vi opererer med positive tall, gjør sympy det for oss\n",
    "sp.root(x**12, 3) "
   ]
  },
  {
   "cell_type": "code",
   "execution_count": null,
   "id": "32673163-d7b5-4c19-99fd-a654e04101d8",
   "metadata": {},
   "outputs": [],
   "source": [
    "#1m\n",
    "solved = sp.diff((x**2+4*x +2)/(x-2), x) #deriverer mhp x\n",
    "sp.simplify(solved) #ønsker å lage et penere uttrykk, og bruker derfor \"simplify\""
   ]
  },
  {
   "cell_type": "markdown",
   "id": "433bd64c-f48d-4cb8-94e9-68742f554c11",
   "metadata": {},
   "source": [
    "#### Oppgave 21"
   ]
  },
  {
   "cell_type": "code",
   "execution_count": null,
   "id": "932d015c-1e61-4d61-905a-966c71159468",
   "metadata": {},
   "outputs": [],
   "source": [
    "#b\n",
    "sp.diff(sp.sqrt(2*x**2 +5), x) #deriverer mhp x"
   ]
  },
  {
   "cell_type": "markdown",
   "id": "6f0493e0-8aa3-4efe-a9a2-d0ae025e5838",
   "metadata": {},
   "source": [
    "#### Oppgave 22"
   ]
  },
  {
   "cell_type": "code",
   "execution_count": null,
   "id": "101053d8-d79e-406d-afd5-11f6a27a2733",
   "metadata": {},
   "outputs": [],
   "source": [
    "#b\n",
    "sp.diff(sp.exp(-2*x), x)# bruker sp.exp for å få frem eskponentialfunksjonen med grunntall e \n"
   ]
  },
  {
   "cell_type": "code",
   "execution_count": null,
   "id": "f6b900ac-f8ff-496a-81e3-4af4f8ab2f12",
   "metadata": {},
   "outputs": [],
   "source": [
    "#c\n",
    "sp.diff(sp.log(12*x)-3, x)#bruker sp.log for å bruke logaritmen"
   ]
  }
 ],
 "metadata": {
  "kernelspec": {
   "display_name": "Python 3 (ipykernel)",
   "language": "python",
   "name": "python3"
  },
  "language_info": {
   "codemirror_mode": {
    "name": "ipython",
    "version": 3
   },
   "file_extension": ".py",
   "mimetype": "text/x-python",
   "name": "python",
   "nbconvert_exporter": "python",
   "pygments_lexer": "ipython3",
   "version": "3.9.13"
  }
 },
 "nbformat": 4,
 "nbformat_minor": 5
}
